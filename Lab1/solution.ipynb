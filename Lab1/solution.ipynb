{
 "cells": [
  {
   "cell_type": "markdown",
   "metadata": {},
   "source": [
    "# Lab1: Set Covering"
   ]
  },
  {
   "cell_type": "code",
   "execution_count": null,
   "metadata": {},
   "outputs": [],
   "source": [
    "import random"
   ]
  },
  {
   "cell_type": "code",
   "execution_count": null,
   "metadata": {},
   "outputs": [],
   "source": [
    "def problem(N, seed=None):\n",
    "  random.seed(seed)\n",
    "  return [\n",
    "    list(set(random.randint(0, N-1) for n in range(random.randint(N//5, N//2))))\n",
    "    for n in range(random.randint(N, N*5))\n",
    "  ]\n"
   ]
  },
  {
   "cell_type": "markdown",
   "metadata": {},
   "source": [
    "## Solution proposed"
   ]
  },
  {
   "cell_type": "code",
   "execution_count": null,
   "metadata": {},
   "outputs": [],
   "source": [
    "W_FACTOR = 2\n",
    "INTW_FACTOR = 10\n",
    "\n",
    "def cost(l, goal, covered):\n",
    "  \"\"\" Compute the weighted number of digits left to find the goal state + the weighted len of the list\"\"\"\n",
    "  extended_covered = set(l) | covered   # Covered digits including the list l\n",
    "  return len(l) * W_FACTOR + len(goal - extended_covered) * INTW_FACTOR\n",
    "\n",
    "\n",
    "def find_solution(probl, N):\n",
    "  \"\"\" Optimized greedy \"\"\"\n",
    "\n",
    "  def print_solution(solution):\n",
    "    w = 0\n",
    "    for sol_l in solution:\n",
    "      w += len(sol_l)\n",
    "\n",
    "    print(\"We have found a solution!!\")\n",
    "    print(f\"Solution: {solution}\")\n",
    "    print(f\"Cost = {w}\")\n",
    "\n",
    "\n",
    "  goal = set(range(N))\n",
    "  covered = set()\n",
    "  solution = list()\n",
    "  all_lists = sorted(probl, key=lambda l: cost(l, goal, covered))\n",
    "\n",
    "  # Max number of iterations = N (worst case: I add ONE new digit to the covered set every time)\n",
    "  # Possible becouse we clear the redundant lists\n",
    "  for i in range(N):\n",
    "    # Goal reached?\n",
    "    if goal == covered:\n",
    "      print_solution(solution)\n",
    "      return \n",
    "\n",
    "    # Look for another list\n",
    "    if all_lists:\n",
    "      l = all_lists.pop(0)\n",
    "      \n",
    "      # If l is not a subset of covered, e.i. there is a new digit\n",
    "      # Redundant check?\n",
    "      if not set(l) < covered: \n",
    "        solution.append(l)\n",
    "        covered |= set(l)\n",
    "      \n",
    "      # Clear the redundant lists (lists with only digits already covered)\n",
    "      for x in all_lists:\n",
    "        if set(x) < covered:\n",
    "          all_lists.remove(x)\n",
    "      \n",
    "      all_lists.sort(key=lambda l: cost(l, goal, covered))\n",
    "    \n",
    "    # No list available\n",
    "    else:\n",
    "      print(\"No solution has beed found\")\n",
    "      return \n",
    "\n",
    "  if goal == covered:\n",
    "    print_solution(solution)\n",
    "  else:\n",
    "    print(\"No solution has beed found\")"
   ]
  },
  {
   "cell_type": "markdown",
   "metadata": {},
   "source": [
    "## Run the solution finder with different values of N"
   ]
  },
  {
   "cell_type": "markdown",
   "metadata": {},
   "source": [
    "### N = 5"
   ]
  },
  {
   "cell_type": "code",
   "execution_count": null,
   "metadata": {},
   "outputs": [],
   "source": [
    "N = 5\n",
    "p = problem(N, seed=42)\n",
    "find_solution(p, N)"
   ]
  },
  {
   "cell_type": "markdown",
   "metadata": {},
   "source": [
    "### N = 10"
   ]
  },
  {
   "cell_type": "code",
   "execution_count": null,
   "metadata": {},
   "outputs": [],
   "source": [
    "N = 10\n",
    "p = problem(N, seed=42)\n",
    "find_solution(p, N)"
   ]
  },
  {
   "cell_type": "markdown",
   "metadata": {},
   "source": [
    "### N = 20"
   ]
  },
  {
   "cell_type": "code",
   "execution_count": null,
   "metadata": {},
   "outputs": [],
   "source": [
    "N = 20\n",
    "p = problem(N, seed=42)\n",
    "find_solution(p, N)"
   ]
  },
  {
   "cell_type": "markdown",
   "metadata": {},
   "source": [
    "### N = 100"
   ]
  },
  {
   "cell_type": "code",
   "execution_count": null,
   "metadata": {},
   "outputs": [],
   "source": [
    "N = 100\n",
    "p = problem(N, seed=42)\n",
    "find_solution(p, N)"
   ]
  },
  {
   "cell_type": "markdown",
   "metadata": {},
   "source": [
    "### N = 500"
   ]
  },
  {
   "cell_type": "code",
   "execution_count": null,
   "metadata": {},
   "outputs": [],
   "source": [
    "N = 500\n",
    "p = problem(N, seed=42)\n",
    "find_solution(p, N)"
   ]
  },
  {
   "cell_type": "markdown",
   "metadata": {},
   "source": [
    "### N = 1000"
   ]
  },
  {
   "cell_type": "code",
   "execution_count": null,
   "metadata": {},
   "outputs": [],
   "source": [
    "N = 1000\n",
    "p = problem(N, seed=42)\n",
    "find_solution(p, N)"
   ]
  }
 ],
 "metadata": {
  "kernelspec": {
   "display_name": "Python 3.10.2 64-bit",
   "language": "python",
   "name": "python3"
  },
  "language_info": {
   "codemirror_mode": {
    "name": "ipython",
    "version": 3
   },
   "file_extension": ".py",
   "mimetype": "text/x-python",
   "name": "python",
   "nbconvert_exporter": "python",
   "pygments_lexer": "ipython3",
   "version": "3.10.2"
  },
  "orig_nbformat": 4,
  "vscode": {
   "interpreter": {
    "hash": "9a4f0b1f75230d0685db9f62ea9a74145eb856063afdde202d14c9725e05c010"
   }
  }
 },
 "nbformat": 4,
 "nbformat_minor": 2
}
