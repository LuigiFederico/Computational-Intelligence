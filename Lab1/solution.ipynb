{
 "cells": [
  {
   "cell_type": "markdown",
   "metadata": {},
   "source": [
    "# Lab1: Set Covering"
   ]
  },
  {
   "cell_type": "code",
   "execution_count": 1,
   "metadata": {},
   "outputs": [],
   "source": [
    "import random"
   ]
  },
  {
   "cell_type": "code",
   "execution_count": 2,
   "metadata": {},
   "outputs": [],
   "source": [
    "def problem(N, seed=None):\n",
    "  random.seed(seed)\n",
    "  return [\n",
    "    list(set(random.randint(0, N-1) for n in range(random.randint(N//5, N//2))))\n",
    "    for n in range(random.randint(N, N*5))\n",
    "  ]"
   ]
  },
  {
   "cell_type": "code",
   "execution_count": 25,
   "metadata": {},
   "outputs": [
    {
     "data": {
      "text/plain": [
       "[[0],\n",
       " [0],\n",
       " [0],\n",
       " [0],\n",
       " [0],\n",
       " [1],\n",
       " [1],\n",
       " [1],\n",
       " [1],\n",
       " [2],\n",
       " [3],\n",
       " [3],\n",
       " [3],\n",
       " [4],\n",
       " [4],\n",
       " [4],\n",
       " [4],\n",
       " [4],\n",
       " [0, 1],\n",
       " [0, 1],\n",
       " [0, 2],\n",
       " [1, 3],\n",
       " [2, 3],\n",
       " [2, 4],\n",
       " [2, 4]]"
      ]
     },
     "execution_count": 25,
     "metadata": {},
     "output_type": "execute_result"
    }
   ],
   "source": [
    "N = 5\n",
    "p = sorted(problem(N, 42))\n",
    "p.sort(key=lambda x: len(x))"
   ]
  },
  {
   "cell_type": "code",
   "execution_count": 36,
   "metadata": {},
   "outputs": [
    {
     "name": "stdout",
     "output_type": "stream",
     "text": [
      "[[32, 1, 67, 68, 70, 8, 76, 14, 80, 49, 48, 19, 20, 54, 87, 59, 92], [64, 32, 2, 67, 69, 70, 5, 8, 44, 45, 46, 47, 49, 81, 60, 30, 95], [0, 96, 98, 36, 70, 41, 42, 12, 17, 83, 52, 20, 87, 25, 91, 60, 61], [97, 34, 65, 3, 70, 39, 71, 11, 13, 46, 45, 16, 52, 55, 23, 56, 57], [32, 65, 33, 99, 37, 73, 9, 11, 12, 14, 82, 19, 85, 58, 92, 29, 63], [32, 33, 2, 7, 71, 42, 12, 44, 46, 80, 50, 20, 88, 57, 27, 60, 95], [1, 98, 35, 5, 74, 11, 76, 15, 47, 50, 19, 20, 21, 88, 60, 63, 31], [64, 96, 34, 67, 36, 10, 43, 46, 47, 80, 19, 21, 53, 85, 91, 60, 31], [96, 1, 37, 43, 12, 76, 79, 48, 49, 51, 52, 84, 54, 83, 58, 59, 29], [32, 65, 66, 3, 68, 2, 97, 41, 77, 46, 15, 14, 19, 20, 24, 27, 94], [64, 35, 3, 69, 4, 71, 11, 75, 13, 77, 17, 86, 54, 27, 28, 29, 94, 31], [65, 66, 37, 38, 6, 76, 77, 14, 49, 50, 82, 84, 81, 24, 26, 63, 30, 95], [64, 98, 35, 36, 68, 7, 39, 10, 78, 80, 81, 50, 51, 19, 53, 54, 89, 91], [32, 1, 96, 99, 69, 75, 77, 79, 47, 81, 82, 92, 56, 25, 90, 28, 94, 95], [0, 65, 66, 2, 98, 35, 38, 70, 40, 71, 73, 4, 12, 17, 19, 88, 27, 28], [64, 97, 34, 3, 99, 72, 10, 76, 77, 78, 45, 16, 17, 61, 87, 23, 88, 29], [0, 65, 34, 98, 4, 73, 42, 81, 49, 83, 19, 85, 50, 89, 90, 61, 62, 63], [64, 96, 69, 37, 72, 73, 42, 43, 14, 82, 18, 85, 56, 90, 88, 60, 93, 94], [2, 36, 39, 72, 8, 77, 82, 50, 20, 18, 22, 23, 24, 87, 58, 93, 62, 63]]\n"
     ]
    }
   ],
   "source": [
    "def greedy(N):\n",
    "  \"\"\"Professor solution\"\"\"\n",
    "  goal = set(range(N))\n",
    "  covered = set()\n",
    "  solution = list()\n",
    "  all_lists = sorted(problem(N, seed=42), key=lambda l: len(l))\n",
    "  while goal != covered:\n",
    "    x = all_lists.pop(0)\n",
    "    if not set(x) < covered:\n",
    "      solution.append(x)\n",
    "      covered |= set(x)\n",
    "\n",
    "  print(f\"{solution}\")\n",
    "\n",
    "greedy(100)"
   ]
  },
  {
   "cell_type": "code",
   "execution_count": null,
   "metadata": {},
   "outputs": [],
   "source": []
  }
 ],
 "metadata": {
  "kernelspec": {
   "display_name": "Python 3.10.2 64-bit",
   "language": "python",
   "name": "python3"
  },
  "language_info": {
   "codemirror_mode": {
    "name": "ipython",
    "version": 3
   },
   "file_extension": ".py",
   "mimetype": "text/x-python",
   "name": "python",
   "nbconvert_exporter": "python",
   "pygments_lexer": "ipython3",
   "version": "3.10.2"
  },
  "orig_nbformat": 4,
  "vscode": {
   "interpreter": {
    "hash": "9a4f0b1f75230d0685db9f62ea9a74145eb856063afdde202d14c9725e05c010"
   }
  }
 },
 "nbformat": 4,
 "nbformat_minor": 2
}
