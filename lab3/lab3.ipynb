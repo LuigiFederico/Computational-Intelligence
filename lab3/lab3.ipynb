{
 "cells": [
  {
   "cell_type": "markdown",
   "metadata": {},
   "source": [
    "# Lab 3 - Nim"
   ]
  },
  {
   "cell_type": "code",
   "execution_count": 1,
   "metadata": {},
   "outputs": [],
   "source": [
    "import logging\n",
    "import random"
   ]
  },
  {
   "cell_type": "code",
   "execution_count": 2,
   "metadata": {},
   "outputs": [],
   "source": [
    "logging.basicConfig(format=\"%(message)s\", level=logging.INFO)"
   ]
  },
  {
   "cell_type": "code",
   "execution_count": 3,
   "metadata": {},
   "outputs": [],
   "source": [
    "class Nim:\n",
    "    def __init__(self, num_rows: int, k: int = None) -> None:\n",
    "        self._rows = [i*2 + 1 for i in range(num_rows)]\n",
    "        self._k = k\n",
    "\n",
    "    def nimming(self, row: int, num_objects: int) -> None:\n",
    "        assert self._rows[row] >= num_objects\n",
    "        assert self._k is None or num_objects <= self._k\n",
    "        self._rows[row] -= num_objects\n",
    "        if sum(self._rows) == 0:\n",
    "            logging.info(\"Yeuch\")"
   ]
  },
  {
   "cell_type": "markdown",
   "metadata": {},
   "source": [
    "## Implementation"
   ]
  },
  {
   "cell_type": "markdown",
   "metadata": {},
   "source": [
    "### Task 3.1 - An agent using fixed rules based on nim-sum\n",
    "Based on the explanation available here: https://en.wikipedia.org/wiki/Nim  \n",
    "\n",
    "It wants to finish every move with a nim-sum of 0 (then it will win if it does not make mistakes)  "
   ]
  },
  {
   "cell_type": "code",
   "execution_count": 4,
   "metadata": {},
   "outputs": [],
   "source": [
    "def action_task1(board, k):\n",
    "  \"\"\"\n",
    "    The agent uses fixed rules based on nim-sum \n",
    "\n",
    "    Returns the index of the pile and the number of pieces removed\n",
    "  \"\"\"\n",
    "  if k is None:\n",
    "    k = 1000000000000\n",
    "\n",
    "  # Compute the nim-sum of all the heap sizes\n",
    "  x = 0\n",
    "  for r in board:\n",
    "    x = r ^ x # nim-sum\n",
    "\n",
    "  # Find a heap where the nim-sum of X and the heap-size is less than the heap-size.\n",
    "  # Then play on that heap, reducing the heap to the nim-sum of its original size with X\n",
    "  if x > 0:\n",
    "    for i, row_size in enumerate(board):\n",
    "      nim_sum = row_size ^ x\n",
    "      if nim_sum < row_size and nim_sum > 0:\n",
    "        row = i\n",
    "        num_obj = nim_sum\n",
    "        if num_obj < k:\n",
    "          return (row, num_obj)\n",
    "  \n",
    "  \n",
    "  possible_rows = [i for i, _ in enumerate(board) if board[i] > 0 ]\n",
    "  return (random.choice(possible_rows), 1)\n",
    " "
   ]
  },
  {
   "cell_type": "code",
   "execution_count": 7,
   "metadata": {},
   "outputs": [
    {
     "name": "stderr",
     "output_type": "stream",
     "text": [
      "Board: [1, 3, 5, 7, 9]\n",
      "Player 0 --> take 1 objects from row 4\n",
      "\n",
      "Board: [1, 3, 5, 7, 8]\n",
      "Player 1 --> take 1 objects from row 1\n",
      "\n",
      "Board: [1, 2, 5, 7, 8]\n",
      "Player 0 --> take 1 objects from row 4\n",
      "\n",
      "Board: [1, 2, 5, 7, 7]\n",
      "Player 1 --> take 3 objects from row 2\n",
      "\n",
      "Board: [1, 2, 2, 7, 7]\n",
      "Player 0 --> take 6 objects from row 3\n",
      "\n",
      "Board: [1, 2, 2, 1, 7]\n",
      "Player 1 --> take 1 objects from row 1\n",
      "\n",
      "Board: [1, 1, 2, 1, 7]\n",
      "Player 0 --> take 3 objects from row 4\n",
      "\n",
      "Board: [1, 1, 2, 1, 4]\n",
      "Player 1 --> take 3 objects from row 4\n",
      "\n",
      "Board: [1, 1, 2, 1, 1]\n",
      "Player 0 --> take 1 objects from row 1\n",
      "\n",
      "Board: [1, 0, 2, 1, 1]\n",
      "Player 1 --> take 1 objects from row 2\n",
      "\n",
      "Board: [1, 0, 1, 1, 1]\n",
      "Player 0 --> take 1 objects from row 4\n",
      "\n",
      "Board: [1, 0, 1, 1, 0]\n",
      "Player 1 --> take 1 objects from row 3\n",
      "\n",
      "Board: [1, 0, 1, 0, 0]\n",
      "Player 0 --> take 1 objects from row 0\n",
      "\n",
      "Board: [0, 0, 1, 0, 0]\n",
      "Player 1 --> take 1 objects from row 2\n",
      "\n",
      "Yeuch\n",
      "Board: [0, 0, 0, 0, 0]\n",
      "### Player 1 lost ###\n"
     ]
    }
   ],
   "source": [
    "action = action_task1\n",
    "nim = Nim(5)\n",
    "player = 1\n",
    "\n",
    "log_board = []\n",
    "log_player = []\n",
    "log_move = []\n",
    "\n",
    "log_board.append(nim._rows)\n",
    "log_player.append(-1)\n",
    "log_move.append((-1,-1))\n",
    "\n",
    "logging.info(f'Board: {nim._rows}')\n",
    "while not sum(nim._rows) == 0:\n",
    "  player = int(not player) \n",
    "  row, num_obj = action(nim._rows, nim._k)\n",
    "  logging.info(f'Player {player} --> take {num_obj} objects from row {row}\\n')\n",
    "  nim.nimming(row, num_obj)\n",
    "  logging.info(f'Board: {nim._rows}')\n",
    "\n",
    "  log_board.append([x for x in nim._rows])\n",
    "  log_player.append(player)\n",
    "  log_move.append((row, num_obj))\n",
    "\n",
    "logging.info(f'### Player {player} lost ###')"
   ]
  },
  {
   "cell_type": "code",
   "execution_count": 8,
   "metadata": {},
   "outputs": [
    {
     "name": "stdout",
     "output_type": "stream",
     "text": [
      "player -1 -> take -1 obj from row -1\n",
      "--> [0, 0, 0, 0, 0]\n",
      "player 0 -> take 1 obj from row 4\n",
      "--> [1, 3, 5, 7, 8]\n",
      "player 1 -> take 1 obj from row 1\n",
      "--> [1, 2, 5, 7, 8]\n",
      "player 0 -> take 1 obj from row 4\n",
      "--> [1, 2, 5, 7, 7]\n",
      "player 1 -> take 3 obj from row 2\n",
      "--> [1, 2, 2, 7, 7]\n",
      "player 0 -> take 6 obj from row 3\n",
      "--> [1, 2, 2, 1, 7]\n",
      "player 1 -> take 1 obj from row 1\n",
      "--> [1, 1, 2, 1, 7]\n",
      "player 0 -> take 3 obj from row 4\n",
      "--> [1, 1, 2, 1, 4]\n",
      "player 1 -> take 3 obj from row 4\n",
      "--> [1, 1, 2, 1, 1]\n",
      "player 0 -> take 1 obj from row 1\n",
      "--> [1, 0, 2, 1, 1]\n",
      "player 1 -> take 1 obj from row 2\n",
      "--> [1, 0, 1, 1, 1]\n",
      "player 0 -> take 1 obj from row 4\n",
      "--> [1, 0, 1, 1, 0]\n",
      "player 1 -> take 1 obj from row 3\n",
      "--> [1, 0, 1, 0, 0]\n",
      "player 0 -> take 1 obj from row 0\n",
      "--> [0, 0, 1, 0, 0]\n",
      "player 1 -> take 1 obj from row 2\n",
      "--> [0, 0, 0, 0, 0]\n"
     ]
    }
   ],
   "source": [
    "n = len(log_board)\n",
    "for i in range(n):\n",
    "  print(f'player {log_player[i]} -> take {log_move[i][1]} obj from row {log_move[i][0]}')\n",
    "  print(f'--> {log_board[i]}')"
   ]
  }
 ],
 "metadata": {
  "kernelspec": {
   "display_name": "Python 3.10.8 64-bit (microsoft store)",
   "language": "python",
   "name": "python3"
  },
  "language_info": {
   "codemirror_mode": {
    "name": "ipython",
    "version": 3
   },
   "file_extension": ".py",
   "mimetype": "text/x-python",
   "name": "python",
   "nbconvert_exporter": "python",
   "pygments_lexer": "ipython3",
   "version": "3.10.8"
  },
  "orig_nbformat": 4,
  "vscode": {
   "interpreter": {
    "hash": "dfdee70b8fde6354ca2c3454fb2ed6ad5a414021dbe15bd7e75ed280b1128364"
   }
  }
 },
 "nbformat": 4,
 "nbformat_minor": 2
}
