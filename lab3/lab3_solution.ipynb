{
 "cells": [
  {
   "cell_type": "markdown",
   "metadata": {},
   "source": [
    "# Lab 3 - Nim"
   ]
  },
  {
   "cell_type": "code",
   "execution_count": 1,
   "metadata": {},
   "outputs": [],
   "source": [
    "import logging\n",
    "import random\n",
    "from collections import namedtuple\n",
    "from copy import deepcopy"
   ]
  },
  {
   "cell_type": "code",
   "execution_count": 2,
   "metadata": {},
   "outputs": [],
   "source": [
    "logging.basicConfig(format=\"%(message)s\", level=logging.INFO)"
   ]
  },
  {
   "cell_type": "code",
   "execution_count": 3,
   "metadata": {},
   "outputs": [],
   "source": [
    "Nimply = namedtuple(\"Nimply\", \"row, num_objects\")"
   ]
  },
  {
   "cell_type": "code",
   "execution_count": 4,
   "metadata": {},
   "outputs": [],
   "source": [
    "class Nim:\n",
    "    def __init__(self, num_rows: int, k: int = None) -> None:\n",
    "        self._rows = [i * 2 + 1 for i in range(num_rows)]\n",
    "        self._k = k\n",
    "\n",
    "    def __bool__(self):\n",
    "        return sum(self._rows) > 0\n",
    "\n",
    "    def __str__(self):\n",
    "        return \"<\" + \" \".join(str(_) for _ in self._rows) + \">\"\n",
    "\n",
    "    @property\n",
    "    def rows(self) -> tuple:\n",
    "        return tuple(self._rows)\n",
    "\n",
    "    def nimming(self, ply: Nimply) -> None:\n",
    "        row, num_objects = ply\n",
    "        assert self._rows[row] >= num_objects\n",
    "        assert self._k is None or num_objects <= self._k\n",
    "        self._rows[row] -= num_objects"
   ]
  },
  {
   "cell_type": "code",
   "execution_count": 5,
   "metadata": {},
   "outputs": [],
   "source": [
    "def nim_sum(elem: list):\n",
    "  x = 0\n",
    "  for e in elem:\n",
    "    x = e ^ x\n",
    "  return x"
   ]
  },
  {
   "cell_type": "markdown",
   "metadata": {},
   "source": [
    "## Implementation"
   ]
  },
  {
   "cell_type": "markdown",
   "metadata": {},
   "source": [
    "### Random action"
   ]
  },
  {
   "cell_type": "code",
   "execution_count": 6,
   "metadata": {},
   "outputs": [],
   "source": [
    "def random_action(nim: Nim):\n",
    "  \"\"\"\n",
    "    The agent perform a random action\n",
    "  \"\"\"\n",
    "  row = random.choice([r for r, n in enumerate(nim._rows) if n > 0])\n",
    "  if nim._k:\n",
    "    num_obj = random.randint(1, min(nim._k, nim._rows[row]))\n",
    "  else:\n",
    "    num_obj = random.randint(1, nim._rows[row])\n",
    "  \n",
    "  return Nimply(row, num_obj)"
   ]
  },
  {
   "cell_type": "markdown",
   "metadata": {},
   "source": [
    "### Task 3.1 - An agent using fixed rules based on nim-sum\n",
    "Based on the explanation available here: https://en.wikipedia.org/wiki/Nim  \n",
    "\n",
    "It wants to finish every move with a nim-sum of 0, called 'secure position' (then it will win if it does not make mistakes). "
   ]
  },
  {
   "cell_type": "code",
   "execution_count": 7,
   "metadata": {},
   "outputs": [],
   "source": [
    "def expert_action(nim: Nim):\n",
    "  \"\"\"\n",
    "    The agent uses fixed rules based on nim-sum (expert-system)\n",
    "\n",
    "    Returns the index of the pile and the number of pieces removed as a Nimply namedtuple\n",
    "  \"\"\"\n",
    "  board = nim._rows\n",
    "  k = nim._k\n",
    "\n",
    "  # Winning move if there is only one row left\n",
    "  tmp = [(i, r) for i, r in enumerate(board) if r > 0]\n",
    "  if len(tmp) == 1:\n",
    "    row, num_obj = tmp[0]\n",
    "    if not k or num_obj <= k:\n",
    "      return Nimply(row, num_obj) # Take the entire row\n",
    "\n",
    "\n",
    "  # Compute the nim-sum of all the heap sizes\n",
    "  x = nim_sum(board)\n",
    "\n",
    "  if x > 0:\n",
    "    # Current player on a insucure position -> is winning\n",
    "    # --> Has to generate a secure position (bad for the other player)\n",
    "    # --> Find a heap where the nim-sum of X and the heap-size is less than the heap-size.\n",
    "    # --> Then play on that heap, reducing the heap to the nim-sum of its original size with X\n",
    "    \n",
    "    good_rows = [] # A list is needed because of k\n",
    "    for row, row_size in enumerate(board):\n",
    "      if row_size == 0:\n",
    "        continue\n",
    "      ns = row_size ^ x # nim sum\n",
    "      if ns < row_size:\n",
    "        good_rows.append((row, row_size)) # This row will have nim sum = 0\n",
    "        \n",
    "    for row, row_size in good_rows:\n",
    "      board_tmp = deepcopy(board)\n",
    "      for i in range(row_size):\n",
    "       board_tmp[row] -= 1 \n",
    "       if nim_sum(board_tmp) == 0:  # winning move\n",
    "        num_obj = abs(board[row] - board_tmp[row])\n",
    "        if not k or num_obj <= k:\n",
    "          return Nimply(row, num_obj)\n",
    "  \n",
    "  # x == 0 or k force a bad move to the player\n",
    "  # Current player on a secure position or on a bad position bc of k -> is losing\n",
    "  # --> Can only generate an insicure position (good for the other player)\n",
    "  # --> Perform a random action bc it doesn't matter\n",
    "  return random_action(nim)\n",
    "  "
   ]
  },
  {
   "cell_type": "markdown",
   "metadata": {},
   "source": [
    "### Task 3.2 - An agent using evolved rules"
   ]
  },
  {
   "cell_type": "code",
   "execution_count": null,
   "metadata": {},
   "outputs": [],
   "source": [
    "pass"
   ]
  },
  {
   "cell_type": "markdown",
   "metadata": {},
   "source": [
    "### Task 3.3 - An agent using minmax"
   ]
  },
  {
   "cell_type": "code",
   "execution_count": null,
   "metadata": {},
   "outputs": [],
   "source": [
    "pass"
   ]
  },
  {
   "cell_type": "markdown",
   "metadata": {},
   "source": [
    "### Task 3.4 - An agent using reinforcement learning"
   ]
  },
  {
   "cell_type": "code",
   "execution_count": null,
   "metadata": {},
   "outputs": [],
   "source": [
    "pass"
   ]
  },
  {
   "cell_type": "markdown",
   "metadata": {},
   "source": [
    "## Play a game"
   ]
  },
  {
   "cell_type": "code",
   "execution_count": 10,
   "metadata": {},
   "outputs": [],
   "source": [
    "def evaluate(nim: Nim, n_matches=20, *, my_action=expert_action, opponent_action=expert_action, debug=False):\n",
    "  \"\"\"\n",
    "    You are player 0\n",
    "  \"\"\"\n",
    "  if debug:\n",
    "    logging.getLogger().setLevel(logging.DEBUG)\n",
    "\n",
    "  player_action = {\n",
    "    0: my_action, # our champion\n",
    "    1: opponent_action # our opponent\n",
    "    }\n",
    "\n",
    "  player = 1\n",
    "  won = 0\n",
    "\n",
    "  for m in range(n_matches):\n",
    "    if m/n_matches > 0.5:\n",
    "      player = 0  # You start\n",
    "    else:\n",
    "      player = 1  # Opponent start\n",
    "\n",
    "    logging.debug(f'Board -> {nim}\\tk = {nim._k}')\n",
    "    logging.debug(f'Player {1-player} starts\\n')\n",
    "    while not sum(nim._rows) == 0:\n",
    "      ply = player_action[player](nim)\n",
    "      nim.nimming(ply)\n",
    "      player = 1 - player\n",
    "      logging.debug(f'player {player} -> {nim}\\tnim_sum = {nim_sum(nim._rows)}')\n",
    "    \n",
    "    logging.debug(f'\\n### Player {player} won ###\\n')\n",
    "    if player == 0:\n",
    "      won += 1\n",
    "      \n",
    "  return won/n_matches"
   ]
  },
  {
   "cell_type": "markdown",
   "metadata": {},
   "source": [
    "### Choose the game parameters and play"
   ]
  },
  {
   "cell_type": "code",
   "execution_count": 18,
   "metadata": {},
   "outputs": [
    {
     "data": {
      "text/plain": [
       "0.49"
      ]
     },
     "execution_count": 18,
     "metadata": {},
     "output_type": "execute_result"
    }
   ],
   "source": [
    "nim = Nim(7, 3)\n",
    "evaluate(nim, 100, my_action=expert_action, opponent_action=random_action)"
   ]
  }
 ],
 "metadata": {
  "kernelspec": {
   "display_name": "Python 3.10.8 64-bit (microsoft store)",
   "language": "python",
   "name": "python3"
  },
  "language_info": {
   "codemirror_mode": {
    "name": "ipython",
    "version": 3
   },
   "file_extension": ".py",
   "mimetype": "text/x-python",
   "name": "python",
   "nbconvert_exporter": "python",
   "pygments_lexer": "ipython3",
   "version": "3.10.8"
  },
  "orig_nbformat": 4,
  "vscode": {
   "interpreter": {
    "hash": "dfdee70b8fde6354ca2c3454fb2ed6ad5a414021dbe15bd7e75ed280b1128364"
   }
  }
 },
 "nbformat": 4,
 "nbformat_minor": 2
}
