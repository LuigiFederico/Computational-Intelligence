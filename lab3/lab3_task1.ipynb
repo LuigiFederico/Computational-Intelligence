{
 "cells": [
  {
   "cell_type": "markdown",
   "metadata": {},
   "source": [
    "# Lab 3 - Nim  \n",
    "## Task 3.1 - An agent using fixed rules based on nim-sum"
   ]
  },
  {
   "cell_type": "markdown",
   "metadata": {},
   "source": [
    "Based on the explanation available here: https://en.wikipedia.org/wiki/Nim  \n",
    "\n",
    "It wants to finish every move with a nim-sum of 0, called 'secure position' (then it will win if it does not make mistakes). "
   ]
  },
  {
   "cell_type": "code",
   "execution_count": 1,
   "metadata": {},
   "outputs": [],
   "source": [
    "import logging\n",
    "from copy import deepcopy\n",
    "from nim import Nimply, Nim\n",
    "from play_nim import nim_sum, random_action, evaluate"
   ]
  },
  {
   "cell_type": "code",
   "execution_count": 2,
   "metadata": {},
   "outputs": [],
   "source": [
    "logging.basicConfig(format=\"%(message)s\", level=logging.INFO)"
   ]
  },
  {
   "cell_type": "markdown",
   "metadata": {},
   "source": [
    "### Implementation"
   ]
  },
  {
   "cell_type": "code",
   "execution_count": 3,
   "metadata": {},
   "outputs": [],
   "source": [
    "def expert_action(nim: Nim):\n",
    "  \"\"\"\n",
    "    The agent uses fixed rules based on nim-sum (expert-system)\n",
    "\n",
    "    Returns the index of the pile and the number of pieces removed as a Nimply namedtuple\n",
    "  \"\"\"\n",
    "  board = nim._rows\n",
    "  k = nim._k\n",
    "\n",
    "  # Winning move if there is only one row left\n",
    "  tmp = [(i, r) for i, r in enumerate(board) if r > 0]\n",
    "  if len(tmp) == 1:\n",
    "    row, num_obj = tmp[0]\n",
    "    if not k or num_obj <= k:\n",
    "      return Nimply(row, num_obj) # Take the entire row\n",
    "\n",
    "\n",
    "  # Compute the nim-sum of all the heap sizes\n",
    "  x = nim_sum(board)\n",
    "\n",
    "  if x > 0:\n",
    "    # Current player on a insucure position -> is winning\n",
    "    # --> Has to generate a secure position (bad for the other player)\n",
    "    # --> Find a heap where the nim-sum of X and the heap-size is less than the heap-size.\n",
    "    # --> Then play on that heap, reducing the heap to the nim-sum of its original size with X\n",
    "    \n",
    "    good_rows = [] # A list is needed because of k\n",
    "    for row, row_size in enumerate(board):\n",
    "      if row_size == 0:\n",
    "        continue\n",
    "      ns = row_size ^ x # nim sum\n",
    "      if ns < row_size:\n",
    "        good_rows.append((row, row_size)) # This row will have nim sum = 0\n",
    "        \n",
    "    for row, row_size in good_rows:\n",
    "      board_tmp = deepcopy(board)\n",
    "      for i in range(row_size):\n",
    "       board_tmp[row] -= 1 \n",
    "       if nim_sum(board_tmp) == 0:  # winning move\n",
    "        num_obj = abs(board[row] - board_tmp[row])\n",
    "        if not k or num_obj <= k:\n",
    "          return Nimply(row, num_obj)\n",
    "  \n",
    "  # x == 0 or k force a bad move to the player\n",
    "  # Current player on a secure position or on a bad position bc of k -> is losing\n",
    "  # --> Can only generate an insicure position (good for the other player)\n",
    "  # --> Perform a random action bc it doesn't matter\n",
    "  return random_action(nim)\n",
    "  "
   ]
  },
  {
   "cell_type": "markdown",
   "metadata": {},
   "source": [
    "### Play"
   ]
  },
  {
   "cell_type": "code",
   "execution_count": 7,
   "metadata": {},
   "outputs": [
    {
     "data": {
      "text/plain": [
       "1.0"
      ]
     },
     "execution_count": 7,
     "metadata": {},
     "output_type": "execute_result"
    }
   ],
   "source": [
    "nim = Nim(7)\n",
    "evaluate(nim, 20, my_action=expert_action)"
   ]
  }
 ],
 "metadata": {
  "kernelspec": {
   "display_name": "Python 3.10.8 64-bit (microsoft store)",
   "language": "python",
   "name": "python3"
  },
  "language_info": {
   "codemirror_mode": {
    "name": "ipython",
    "version": 3
   },
   "file_extension": ".py",
   "mimetype": "text/x-python",
   "name": "python",
   "nbconvert_exporter": "python",
   "pygments_lexer": "ipython3",
   "version": "3.10.9 (tags/v3.10.9:1dd9be6, Dec  6 2022, 20:01:21) [MSC v.1934 64 bit (AMD64)]"
  },
  "orig_nbformat": 4,
  "vscode": {
   "interpreter": {
    "hash": "dfdee70b8fde6354ca2c3454fb2ed6ad5a414021dbe15bd7e75ed280b1128364"
   }
  }
 },
 "nbformat": 4,
 "nbformat_minor": 2
}
