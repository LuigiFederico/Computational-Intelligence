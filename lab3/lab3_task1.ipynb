{
 "cells": [
  {
   "cell_type": "markdown",
   "metadata": {},
   "source": [
    "# Lab 3 - Nim\n",
    "\n",
    "### Task 3.1 - An agent using fixed rules based on nim-sum\n",
    "Based on the explanation available here: https://en.wikipedia.org/wiki/Nim  \n",
    "\n",
    "It wants to finish every move with a nim-sum of 0, called 'secure position' (then it will win if it does not make mistakes). "
   ]
  },
  {
   "cell_type": "code",
   "execution_count": 1,
   "metadata": {},
   "outputs": [],
   "source": [
    "import logging\n",
    "import random\n",
    "from copy import deepcopy"
   ]
  },
  {
   "cell_type": "code",
   "execution_count": 2,
   "metadata": {},
   "outputs": [],
   "source": [
    "logging.basicConfig(format=\"%(message)s\", level=logging.INFO)"
   ]
  },
  {
   "cell_type": "code",
   "execution_count": 3,
   "metadata": {},
   "outputs": [],
   "source": [
    "class Nim:\n",
    "    def __init__(self, num_rows: int, k: int = None) -> None:\n",
    "        self._rows = [i*2 + 1 for i in range(num_rows)]\n",
    "        self._k = k\n",
    "\n",
    "    def nimming(self, row: int, num_objects: int) -> None:\n",
    "        assert self._rows[row] >= num_objects\n",
    "        assert self._k is None or num_objects <= self._k\n",
    "        self._rows[row] -= num_objects\n",
    "        if sum(self._rows) == 0:\n",
    "            logging.info(\"\\n*** Game over! *** \\n\")"
   ]
  },
  {
   "cell_type": "code",
   "execution_count": 4,
   "metadata": {},
   "outputs": [],
   "source": [
    "def nim_sum(elem: list):\n",
    "  x = 0\n",
    "  for e in elem:\n",
    "    x = e ^ x\n",
    "  return x"
   ]
  },
  {
   "cell_type": "markdown",
   "metadata": {},
   "source": [
    "## Implementation"
   ]
  },
  {
   "cell_type": "code",
   "execution_count": 5,
   "metadata": {},
   "outputs": [],
   "source": [
    "def expert_action(board, k):\n",
    "  \"\"\"\n",
    "    The agent uses fixed rules based on nim-sum (expert-system)\n",
    "\n",
    "    Returns the index of the pile and the number of pieces removed\n",
    "  \"\"\"\n",
    "  # Winning move if there is only one row with more than 1 obj\n",
    "  # If there is only one obj left, the current player lost\n",
    "  tmp = [(i, r) for i, r in enumerate(board) if r > 0]\n",
    "  if len(tmp) == 1:\n",
    "    row, num_obj = tmp[0]\n",
    "    if num_obj == 1:\n",
    "      return row, num_obj\n",
    "    elif k and num_obj > k:\n",
    "      return row, k\n",
    "    else:\n",
    "      return row, num_obj-1 #left to 1\n",
    "\n",
    "\n",
    "  # Compute the nim-sum of all the heap sizes\n",
    "  x = 0\n",
    "  for r in board:\n",
    "    x = r ^ x\n",
    "  assert x >= 0\n",
    "\n",
    "  if x > 0:\n",
    "    # Current player on a insucure position -> is winning\n",
    "    # --> Has to generate a secure position (bad for the other player)\n",
    "    # --> Find a heap where the nim-sum of X and the heap-size is less than the heap-size.\n",
    "    # --> Then play on that heap, reducing the heap to the nim-sum of its original size with X\n",
    "    \n",
    "    good_rows = [] # A list is needed because of k\n",
    "    for row, row_size in enumerate(board):\n",
    "      if row_size == 0:\n",
    "        continue\n",
    "      ns = row_size ^ x # nim sum\n",
    "      if ns < row_size:\n",
    "        good_rows.append((row, row_size)) # This row will have nim sum = 0\n",
    "        \n",
    "    for row, row_size in good_rows:\n",
    "      board_tmp = deepcopy(board)\n",
    "      for i in range(row_size):\n",
    "       board_tmp[row] -= 1 \n",
    "       if nim_sum(board_tmp) == 0:  # winning move\n",
    "        num_obj = abs(board[row] - board_tmp[row]) # <----- DA SISTEMARE -------\n",
    "        if not k or num_obj <= k:\n",
    "          return row, num_obj\n",
    "  \n",
    "  # x == 0 or k force a bad move to the player\n",
    "  # Current player on a secure position or on a bad position bc of k -> is losing\n",
    "  # --> Can only generate an insicure position (good for the other player)\n",
    "  not_zero_rows = [(i, row_size) for i, row_size in enumerate(board) if board[i] > 0]\n",
    "  row, num_obj = random.choice(not_zero_rows)\n",
    "  if k and num_obj > k:\n",
    "    return row, 1 # Take just one obj from the row\n",
    "  else:\n",
    "    return row, num_obj # Clear the entire row"
   ]
  },
  {
   "cell_type": "markdown",
   "metadata": {},
   "source": [
    "## Play a game"
   ]
  },
  {
   "cell_type": "code",
   "execution_count": 6,
   "metadata": {},
   "outputs": [],
   "source": [
    "def play_nim(num_rows, k=None, action=expert_action):\n",
    "\n",
    "  nim = Nim(num_rows, k)\n",
    "  player_action = {\n",
    "    0: action, # our champion\n",
    "    1: expert_action # our opponent\n",
    "    }\n",
    "  player = 1\n",
    "  cnt = 0\n",
    "\n",
    "  logging.debug(f'Board:\\t{nim._rows}')\n",
    "  logging.debug(f'\\tk = {nim._k}')\n",
    "\n",
    "  while not sum(nim._rows) == 0:\n",
    "    player = int(not player) \n",
    "    row, num_obj = player_action[player](nim._rows, nim._k)\n",
    "    nim.nimming(row, num_obj)\n",
    "    cnt += 1\n",
    " \n",
    "    logging.debug(f'player {player} -> takes {num_obj} obj from row {row}')\n",
    "    logging.debug(f'\\t--> {nim._rows}\\tnim-sum = {nim_sum(nim._rows)}') \n",
    "\n",
    "  logging.info(f'### Player {player} lost in {cnt} moves ###')\n",
    "\n"
   ]
  },
  {
   "cell_type": "markdown",
   "metadata": {},
   "source": [
    "Choose the game parameters and play"
   ]
  },
  {
   "cell_type": "code",
   "execution_count": 7,
   "metadata": {},
   "outputs": [],
   "source": [
    "num_rows = 5\n",
    "k = None\n",
    "action = expert_action\n",
    "\n",
    "logging.getLogger().setLevel(logging.DEBUG)"
   ]
  },
  {
   "cell_type": "code",
   "execution_count": 8,
   "metadata": {},
   "outputs": [
    {
     "name": "stderr",
     "output_type": "stream",
     "text": [
      "Board:\t[1, 3, 5, 7, 9]\n",
      "\tk = None\n",
      "player 0 -> takes 9 obj from row 4\n",
      "\t--> [1, 3, 5, 7, 0]\tnim-sum = 0\n",
      "player 1 -> takes 7 obj from row 3\n",
      "\t--> [1, 3, 5, 0, 0]\tnim-sum = 7\n",
      "player 0 -> takes 3 obj from row 2\n",
      "\t--> [1, 3, 2, 0, 0]\tnim-sum = 0\n",
      "player 1 -> takes 1 obj from row 0\n",
      "\t--> [0, 3, 2, 0, 0]\tnim-sum = 1\n",
      "player 0 -> takes 1 obj from row 1\n",
      "\t--> [0, 2, 2, 0, 0]\tnim-sum = 0\n",
      "player 1 -> takes 2 obj from row 1\n",
      "\t--> [0, 0, 2, 0, 0]\tnim-sum = 2\n",
      "player 0 -> takes 1 obj from row 2\n",
      "\t--> [0, 0, 1, 0, 0]\tnim-sum = 1\n",
      "*** Game over! *** \n",
      "\n",
      "player 1 -> takes 1 obj from row 2\n",
      "\t--> [0, 0, 0, 0, 0]\tnim-sum = 0\n",
      "### Player 1 lost in 8 moves ###\n"
     ]
    }
   ],
   "source": [
    "play_nim(num_rows, k, action)"
   ]
  }
 ],
 "metadata": {
  "kernelspec": {
   "display_name": "Python 3.10.8 64-bit (microsoft store)",
   "language": "python",
   "name": "python3"
  },
  "language_info": {
   "codemirror_mode": {
    "name": "ipython",
    "version": 3
   },
   "file_extension": ".py",
   "mimetype": "text/x-python",
   "name": "python",
   "nbconvert_exporter": "python",
   "pygments_lexer": "ipython3",
   "version": "3.10.8"
  },
  "orig_nbformat": 4,
  "vscode": {
   "interpreter": {
    "hash": "dfdee70b8fde6354ca2c3454fb2ed6ad5a414021dbe15bd7e75ed280b1128364"
   }
  }
 },
 "nbformat": 4,
 "nbformat_minor": 2
}
