{
 "cells": [
  {
   "cell_type": "markdown",
   "metadata": {},
   "source": [
    "# Lab 3 - Nim  \n",
    "## Task 3.2 - An agent using evolved rules"
   ]
  },
  {
   "cell_type": "code",
   "execution_count": null,
   "metadata": {},
   "outputs": [],
   "source": [
    "import logging\n",
    "import random\n",
    "from copy import deepcopy\n",
    "from nim import Nimply, Nim\n",
    "from play_nim import nim_sum, random_action, evaluate"
   ]
  },
  {
   "cell_type": "code",
   "execution_count": null,
   "metadata": {},
   "outputs": [],
   "source": [
    "logging.basicConfig(format=\"%(message)s\", level=logging.INFO)"
   ]
  },
  {
   "cell_type": "markdown",
   "metadata": {},
   "source": [
    "### Implementation"
   ]
  },
  {
   "cell_type": "code",
   "execution_count": null,
   "metadata": {},
   "outputs": [],
   "source": [
    "class EvolvedPlayer():\n",
    "  \"\"\"\n",
    "    This played uses GA to evolve some parameters\n",
    "    that lets him play the game (hopefully better every time)\n",
    "\n",
    "    Each individual has a list of probabilities of taking n obj \n",
    "    from each row. The number of objects n is decided from another \n",
    "    list of probabilities that decides ??????????????????????????????? <<<<<<<<<<<<<<<<<<<<<<<<<<<<<<<<<<<<<<<<<<<<<<<<<<<<<<<<<<<<<\n",
    "  \"\"\"\n",
    "  def __init__(self, nim: Nim, *, population_size=10, offspring_size=10, n_matches=50):\n",
    "    assert nim\n",
    "    assert population_size > 0\n",
    "    assert offspring_size > 0\n",
    "    assert n_matches > 1\n",
    "    \n",
    "    self.k = nim._k\n",
    "    self.board = deepcopy(nim._rows)\n",
    "    self.p_size = population_size\n",
    "    self.o_size = offspring_size\n",
    "    self.n_matches = 50\n",
    "\n",
    "  def initial_population(self):\n",
    "    self.population = []\n",
    "\n",
    "    for i in range(self.p_size):\n",
    "      pass\n",
    "\n",
    "  def cross_over():\n",
    "    pass\n",
    "\n",
    "  def mutation():\n",
    "    pass\n",
    "\n",
    "  def genetic_algorithm():\n",
    "    pass\n",
    "    \n",
    "  def ply():\n",
    "    pass\n",
    "  "
   ]
  }
 ],
 "metadata": {
  "kernelspec": {
   "display_name": "Python 3.10.8 64-bit (microsoft store)",
   "language": "python",
   "name": "python3"
  },
  "language_info": {
   "name": "python",
   "version": "3.10.8"
  },
  "orig_nbformat": 4,
  "vscode": {
   "interpreter": {
    "hash": "dfdee70b8fde6354ca2c3454fb2ed6ad5a414021dbe15bd7e75ed280b1128364"
   }
  }
 },
 "nbformat": 4,
 "nbformat_minor": 2
}
