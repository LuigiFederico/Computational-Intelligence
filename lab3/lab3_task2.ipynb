{
 "cells": [
  {
   "cell_type": "markdown",
   "metadata": {},
   "source": [
    "# Lab 3 - Nim  \n",
    "## Task 3.2 - An agent using evolved rules"
   ]
  },
  {
   "cell_type": "markdown",
   "metadata": {},
   "source": [
    "Here for semplicity, I will consider the parameter k always equal to None"
   ]
  },
  {
   "cell_type": "code",
   "execution_count": 9,
   "metadata": {},
   "outputs": [],
   "source": [
    "import logging\n",
    "import random\n",
    "from copy import deepcopy\n",
    "from nim import Nimply, Nim\n",
    "from play_nim import nim_sum, random_action, evaluate"
   ]
  },
  {
   "cell_type": "code",
   "execution_count": 10,
   "metadata": {},
   "outputs": [],
   "source": [
    "logging.basicConfig(format=\"%(message)s\", level=logging.INFO)"
   ]
  },
  {
   "cell_type": "markdown",
   "metadata": {},
   "source": [
    "## Implementation"
   ]
  },
  {
   "cell_type": "markdown",
   "metadata": {},
   "source": [
    "### Individual"
   ]
  },
  {
   "cell_type": "code",
   "execution_count": 86,
   "metadata": {},
   "outputs": [],
   "source": [
    "class EvolvedPlayer():\n",
    "  \"\"\"\n",
    "    This played uses GA to evolve some rules\n",
    "    that lets him play the game (hopefully better every time).  \n",
    "\n",
    "    The genome will be a list of rules that will be applyed \n",
    "    in order. The information lies inside the order of the rules, that \n",
    "    can change with genetic operations (XOVER and MUT).\n",
    "  \"\"\"\n",
    "\n",
    "  def __init__(self, nim: Nim, genome=None):\n",
    "    self._k = nim._k\n",
    "    self.__collect_info(nim) # Cooked info\n",
    "    self.rules = self.__rules()\n",
    "    if genome:\n",
    "      assert len(genome) == len(self.rules)\n",
    "      self.genome = genome\n",
    "    else: \n",
    "      self.genome = list(self.rules.keys())\n",
    "      random.shuffle(self.genome) \n",
    "\n",
    "\n",
    "  def __collect_info(self, nim: Nim):\n",
    "    self.n_rows_left = len([r for r in nim._rows if r > 0])\n",
    "    self.sorted_rows = sorted([(r, n) for r, n in enumerate(nim._rows) if n > 0], key=lambda r: -r[1])\n",
    "    self.avg_obj_per_row = sum(nim._rows) / len(nim._rows)    \n",
    "\n",
    "\n",
    "  def __rules(self):\n",
    "    \"\"\"\n",
    "    Returns a set of fixed rules as a dicitonary.  \n",
    "    The dictionary will be as follows:\n",
    "      - key: id as incremental number\n",
    "      - value: tuple with (condition, action), where \n",
    "        - condition = boolean condition that has to be true in order to perform the action\n",
    "        - action = Nimply action \n",
    "    \"\"\"\n",
    "\n",
    "    assert self.n_rows_left\n",
    "    assert self.sorted_rows\n",
    "    assert self.avg_obj_per_row\n",
    "    \n",
    "    ### Conditions and Actions ###\n",
    "\n",
    "    # 1 row left --> take the entire row\n",
    "    def c1(self): \n",
    "      return self.n_rows_left == 1\n",
    "    def a1(self):\n",
    "      return Nimply(self.sorted_rows[0][0], self.sorted_rows[0][1])\n",
    "\n",
    "    # 2 rows left --> leave the same number of objs\n",
    "    def c2(self):\n",
    "      return self.n_rows_left == 2\n",
    "    def a2(self):\n",
    "      Nimply(self.sorted_rows[0][0], self.sorted_rows[0][1] - self.sorted_rows[1][1])\n",
    "\n",
    "    # 2 rows left and len longest row > avg --> leave one obj in the higher row\n",
    "    def c3(self):\n",
    "      return self.n_rows_left == 2 and self.sorted_rows[0][1] > self.avg_obj_per_row\n",
    "    def a3(self):\n",
    "      return Nimply(self.sorted_rows[0][1], self.sorted_rows[0][1] - 1)\n",
    "\n",
    "    # 3 rows left --> take the entire max row\n",
    "    def c4(self):\n",
    "      return self.n_rows_left == 3\n",
    "    def a4(self):\n",
    "      return Nimply(self.sorted_rows[0][0], self.sorted_rows[0][1])\n",
    "\n",
    "    # 3 rows left --> take leave the longest row with one obj\n",
    "    def c5(self):\n",
    "      return self.n_rows_left == 3 and self.sorted_rows[0][1] > 1\n",
    "    def a5(self):\n",
    "      return Nimply(self.sorted_rows[0][0], self.sorted_rows[0][1] - 1)\n",
    "    \n",
    "    # avg < max+1 --> take the longest row\n",
    "    def c6(self):\n",
    "      return self.avg_obj_per_row < self.sorted_rows[0][1] + 1\n",
    "    def a6(self):\n",
    "      return Nimply(self.sorted_rows[0][0], self.sorted_rows[0][1])\n",
    "\n",
    "    # default -> take one obj from the longest row\n",
    "    def c7(self):\n",
    "      return True\n",
    "    def a7(self):\n",
    "      return Nimply(self.sorted_rows[0][0], 1)\n",
    "\n",
    "\n",
    "    ### Rule dictionary ###\n",
    "    dict_rules = {\n",
    "      1: (c1, a1),\n",
    "      2: (c2, a2),\n",
    "      3: (c3, a3),\n",
    "      4: (c4, a4),\n",
    "      5: (c5, a5),\n",
    "      6: (c6, a6),\n",
    "      7: (c7, a7)\n",
    "    }\n",
    "  \n",
    "    return dict_rules\n",
    "\n",
    "\n",
    "  def ply(self, nim: Nim):\n",
    "    \"\"\"\n",
    "      Check the rules in order. The first rule that matches will be applyed\n",
    "    \"\"\"\n",
    "    # Update the informations\n",
    "    self.__collect_info(nim)\n",
    "\n",
    "    # Apply a rule\n",
    "    for key in self.genome:\n",
    "      cond, act = self.rules[key]\n",
    "      if cond(self):\n",
    "        return act(self)\n",
    "\n",
    "  \n",
    "  def cross_over(self, partner, nim):\n",
    "    \"\"\" \n",
    "      Cycle crossover: choose two loci l1 and l2 (not included) and copy the segment\n",
    "      between them from p1 to p2, then copy the remaining unused values\n",
    "    \"\"\"\n",
    "    locus1 = random.randint(0, len(self.genome)-1)\n",
    "    while (locus2 := random.randint(0, len(self.genome)-1)) == locus1:\n",
    "      pass\n",
    "    if locus1 > locus2:\n",
    "      tmp = locus1\n",
    "      locus1 = locus2\n",
    "      locus2 = tmp\n",
    "\n",
    "    # Segment extraction\n",
    "    segment_partner = partner.genome[locus1:locus2] # slice\n",
    "    alleles_left = [a for a in self.genome if a not in segment_partner]\n",
    "    #random.shuffle(alleles_left)\n",
    "\n",
    "    # Create the offspring genome\n",
    "    piece1 = alleles_left[:locus1]\n",
    "    piece2 = alleles_left[locus1:]\n",
    "    offspring_genome = piece1 + segment_partner + piece2\n",
    "    \n",
    "    return EvolvedPlayer(nim, offspring_genome)\n",
    "\n",
    "\n",
    "  def mutation(self):\n",
    "    \"\"\"\n",
    "      Swap mutation: alleles in two random loci are swapped\n",
    "    \"\"\"\n",
    "    locus1 = random.randint(0, len(self.genome)-1)\n",
    "    while (locus2 := random.randint(0, len(self.genome)-1)) == locus1:\n",
    "      pass\n",
    "    \n",
    "    # Swap mutation\n",
    "    tmp = self.genome[locus1]\n",
    "    self.genome[locus1] = self.genome[locus2]\n",
    "    self.genome[locus2] = tmp\n"
   ]
  },
  {
   "cell_type": "markdown",
   "metadata": {},
   "source": [
    "### Evolution"
   ]
  },
  {
   "cell_type": "code",
   "execution_count": null,
   "metadata": {},
   "outputs": [],
   "source": [
    "def initial_population(population_size: int, nim: Nim):\n",
    "  population = []\n",
    "  for i in range(population_size):\n",
    "    population.append(EvolvedPlayer(nim))\n",
    "  \n",
    "  return population"
   ]
  },
  {
   "cell_type": "code",
   "execution_count": null,
   "metadata": {},
   "outputs": [],
   "source": [
    "def genetic_algorithm():\n",
    "  pass"
   ]
  },
  {
   "cell_type": "markdown",
   "metadata": {},
   "source": [
    "## Play"
   ]
  },
  {
   "cell_type": "code",
   "execution_count": null,
   "metadata": {},
   "outputs": [],
   "source": [
    "POPULATION_SIZE = 100\n",
    "OFFSPRING_SIZE = 50\n"
   ]
  }
 ],
 "metadata": {
  "kernelspec": {
   "display_name": "Python 3.10.8 64-bit (microsoft store)",
   "language": "python",
   "name": "python3"
  },
  "language_info": {
   "codemirror_mode": {
    "name": "ipython",
    "version": 3
   },
   "file_extension": ".py",
   "mimetype": "text/x-python",
   "name": "python",
   "nbconvert_exporter": "python",
   "pygments_lexer": "ipython3",
   "version": "3.10.8"
  },
  "orig_nbformat": 4,
  "vscode": {
   "interpreter": {
    "hash": "dfdee70b8fde6354ca2c3454fb2ed6ad5a414021dbe15bd7e75ed280b1128364"
   }
  }
 },
 "nbformat": 4,
 "nbformat_minor": 2
}
