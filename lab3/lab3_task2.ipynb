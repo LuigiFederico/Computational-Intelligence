{
 "cells": [
  {
   "cell_type": "markdown",
   "metadata": {},
   "source": [
    "# Lab 3 - Nim\n",
    "\n",
    "### Task 3.2 - An agent using evolved rules "
   ]
  },
  {
   "cell_type": "code",
   "execution_count": null,
   "metadata": {},
   "outputs": [],
   "source": [
    "import logging\n",
    "import random"
   ]
  },
  {
   "cell_type": "code",
   "execution_count": null,
   "metadata": {},
   "outputs": [],
   "source": [
    "logging.basicConfig(format=\"%(message)s\", level=logging.INFO)"
   ]
  },
  {
   "cell_type": "code",
   "execution_count": null,
   "metadata": {},
   "outputs": [],
   "source": [
    "class Nim:\n",
    "    def __init__(self, num_rows: int, k: int = None) -> None:\n",
    "        self._rows = [i*2 + 1 for i in range(num_rows)]\n",
    "        self._k = k\n",
    "\n",
    "    def nimming(self, row: int, num_objects: int) -> None:\n",
    "        assert self._rows[row] >= num_objects\n",
    "        assert self._k is None or num_objects <= self._k\n",
    "        self._rows[row] -= num_objects\n",
    "        if sum(self._rows) == 0:\n",
    "            logging.info(\"Yeuch\")"
   ]
  },
  {
   "cell_type": "markdown",
   "metadata": {},
   "source": [
    "## Implementation"
   ]
  },
  {
   "cell_type": "code",
   "execution_count": null,
   "metadata": {},
   "outputs": [],
   "source": [
    "def rule1(board, k):\n",
    "  \"\"\"\n",
    "  Winning move if there is only one row with more than 1 obj\n",
    "  If there is only one obj left, the current player lost\n",
    "  \"\"\"\n",
    "  tmp = [(i, r) for i, r in enumerate(board) if r > 0]\n",
    "  if len(tmp) == 1:\n",
    "    row, num_obj = tmp[0]\n",
    "    if num_obj == 1:\n",
    "      return row, num_obj\n",
    "    elif k or num_obj > k:\n",
    "      return row, k\n",
    "    else:\n",
    "      return row, num_obj-1 # left to 1\n",
    "  \n",
    "raise NameError('Rule1 not applied')"
   ]
  },
  {
   "cell_type": "code",
   "execution_count": null,
   "metadata": {},
   "outputs": [],
   "source": [
    "def rule2(board, k):\n",
    "  \"\"\"\n",
    "  Current player on a insucure position -> is winning  \n",
    "  --> Has to generate a secure position (bad for the other player)  \n",
    "  \"\"\" \n",
    "  # Compute the nim-sum of all the heap sizes\n",
    "  x = 0\n",
    "  for r in board:\n",
    "    x = r ^ x\n",
    "  assert x >= 0\n",
    "\n",
    "  if x > 0:\n",
    "    # Find a heap where the nim-sum of X and the heap-size is less than the heap-size.\n",
    "    # Then play on that heap, reducing the heap to the nim-sum of its original size with X\n",
    "    \n",
    "    for row, row_size in enumerate(board):\n",
    "      if row_size == 0:\n",
    "        break\n",
    "      nim_sum = row_size ^ x  # nim-sum\n",
    "      num_obj = abs(row_size - nim_sum)  # DA SISTEMARE <---------\n",
    "      if nim_sum < row_size and (not k or num_obj <= k): # winning move\n",
    "        return row, num_obj\n",
    "\n",
    "  raise NameError('Rule2 not applied')"
   ]
  },
  {
   "cell_type": "code",
   "execution_count": null,
   "metadata": {},
   "outputs": [],
   "source": [
    "def rule3(board, k):\n",
    "  \"\"\"\n",
    "    [ nim-sum of x and heap-size == 0 or k forced a bad move to the player ]  \n",
    "    Current player on a secure position or on a bad position bc of k -> is losing  \n",
    "    --> Can only generate an insicure position (good for the other player)\n",
    "  \"\"\"\n",
    "  not_zero_rows = [(i, row_size) for i, row_size in enumerate(board) if board[i] > 0]\n",
    "  row, num_obj = random.choice(not_zero_rows)\n",
    "  if not k or num_obj <= k:\n",
    "    return row, num_obj # Clear the entire row\n",
    "  else:\n",
    "    return row, 1 # Take just one obj from the row"
   ]
  },
  {
   "cell_type": "markdown",
   "metadata": {},
   "source": [
    "## Play a game"
   ]
  },
  {
   "cell_type": "markdown",
   "metadata": {},
   "source": [
    "Choose the action and the game parameters"
   ]
  },
  {
   "cell_type": "code",
   "execution_count": null,
   "metadata": {},
   "outputs": [],
   "source": [
    "num_rows = 5\n",
    "k = 3"
   ]
  },
  {
   "cell_type": "code",
   "execution_count": null,
   "metadata": {},
   "outputs": [],
   "source": [
    "nim = Nim(num_rows, k)\n",
    "player = 1\n",
    "\n",
    "logging.info(f'Board:\\t{nim._rows}')\n",
    "logging.info(f'\\tk = {nim._k}')\n",
    "\n",
    "# Logs of the game\n",
    "log_board = []\n",
    "log_player = []\n",
    "log_move = []\n",
    "\n",
    "log_board.append(nim._rows)\n",
    "log_player.append(-1)\n",
    "log_move.append((-1,-1))\n",
    "\n",
    "while not sum(nim._rows) == 0:\n",
    "  player = int(not player) \n",
    "  row, num_obj = action(nim._rows, nim._k)\n",
    "  nim.nimming(row, num_obj)\n",
    "\n",
    "  log_board.append([x for x in nim._rows])\n",
    "  log_player.append(player)\n",
    "  log_move.append((row, num_obj))\n",
    "\n",
    "logging.info(f'### Player {player} lost ###')"
   ]
  },
  {
   "cell_type": "markdown",
   "metadata": {},
   "source": [
    "Display logs"
   ]
  },
  {
   "cell_type": "code",
   "execution_count": null,
   "metadata": {},
   "outputs": [],
   "source": [
    "for i in range(1, len(log_board)):\n",
    "  logging.info(f'player {log_player[i]} -> takes {log_move[i][1]} obj from row {log_move[i][0]}')\n",
    "  logging.info(f'\\t--> {log_board[i]}\\tnim-sum = {nim_sum(log_board[i])}')"
   ]
  }
 ],
 "metadata": {
  "kernelspec": {
   "display_name": "Python 3.10.8 64-bit (microsoft store)",
   "language": "python",
   "name": "python3"
  },
  "language_info": {
   "name": "python",
   "version": "3.10.8"
  },
  "orig_nbformat": 4,
  "vscode": {
   "interpreter": {
    "hash": "dfdee70b8fde6354ca2c3454fb2ed6ad5a414021dbe15bd7e75ed280b1128364"
   }
  }
 },
 "nbformat": 4,
 "nbformat_minor": 2
}
