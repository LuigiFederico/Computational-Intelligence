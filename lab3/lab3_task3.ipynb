{
 "cells": [
  {
   "cell_type": "markdown",
   "metadata": {},
   "source": [
    "# Lab 3 - Nim  \n",
    "## Task3.3: An agent using minmax   "
   ]
  },
  {
   "cell_type": "code",
   "execution_count": null,
   "metadata": {},
   "outputs": [],
   "source": [
    "import logging\n",
    "import random\n",
    "from copy import deepcopy\n",
    "from tqdm import tqdm\n",
    "from nim import Nimply, Nim"
   ]
  },
  {
   "cell_type": "code",
   "execution_count": null,
   "metadata": {},
   "outputs": [],
   "source": [
    "logging.basicConfig(format=\"%(message)s\", level=logging.INFO)"
   ]
  },
  {
   "cell_type": "markdown",
   "metadata": {},
   "source": [
    "## Implementaton"
   ]
  },
  {
   "cell_type": "code",
   "execution_count": 3,
   "metadata": {},
   "outputs": [],
   "source": [
    "class Node():\n",
    "  def __init__(self, board, action: Nimply, k=None, *, utility=None, parent=None):\n",
    "    assert type == 'min' or type == 'max'\n",
    "    assert board\n",
    "  \n",
    "    self.action = action  # Action performed from the parent state\n",
    "    self.parent = parent\n",
    "    self.utility = utility\n",
    "    self.children = []\n",
    "    self.board = board\n",
    "    \n",
    "    if not parent or self.parent.type=='min': # root or before was min\n",
    "      self.type = 'max'\n",
    "    else: self.type = 'min'\n",
    "\n",
    "    self.generate_possible_actions(board, k)\n",
    "\n",
    "\n",
    "  def add_node(self, board, action):\n",
    "    b = deepcopy(board)\n",
    "    b.nimming(action)\n",
    "    \n",
    "    child = Node(b, action, self.k, parent=self)\n",
    "    self.children.append(child)\n",
    "\n",
    "\n",
    "  def is_leaf(self):\n",
    "    return len(self.children) == 0\n",
    "\n",
    "\n",
    "  def is_root(self):\n",
    "    return not self.parent # parent = None\n",
    "\n",
    "\n",
    "  def set_utility(self, value=None):\n",
    "    if self.is_leaf():\n",
    "      assert value\n",
    "      self.utility = value\n",
    "\n",
    "    elif self.type == 'max':\n",
    "      self.utility = max(self.children, key=lambda c: c.utility)\n",
    "\n",
    "    elif self.type == 'min':\n",
    "      self.utility = min(self.children, key=lambda c: c.utility)\n",
    "\n",
    "    else:\n",
    "      assert False # something is wrong\n",
    "\n",
    "\n",
    "  def generate_possible_actions(self, board, k=None):\n",
    "    self.possible_actions = []\n",
    "    \n",
    "    rows = [(r, n) for r, n in enumerate(board) if n > 0]\n",
    "    for r, num_obj in rows:\n",
    "      while num_obj > 0:\n",
    "        if k and num_obj > k:\n",
    "          break\n",
    "        ply = Nimply(r, num_obj)\n",
    "        self.possible_actions.append(ply)\n",
    "\n",
    "    return len(self.possible_actions)\n",
    "\n",
    "\n"
   ]
  },
  {
   "cell_type": "code",
   "execution_count": null,
   "metadata": {},
   "outputs": [],
   "source": [
    "class GameTree():\n",
    "  def __init__(self, nim: Nim):\n",
    "    self.start_board = deepcopy(nim._rows) #????????????????????????????????\n",
    "    self.k = nim._k\n",
    "    self.root = Node(acton=None, type='max')\n",
    "    self.lookup_table = {}  # (state, action) -> cost\n",
    "    \n",
    "    \n",
    "\n",
    "\n",
    "  def min_max(self, board):  # Wrapper\n",
    "    \"\"\"\n",
    "      MinMax with alpha-beta prouning.  \n",
    "      It creates the tree while it playes, and expands the nodes only if necessary \n",
    "      according with the alpha-beta prouning.\n",
    "    \"\"\"\n",
    "    assert self.root\n",
    "\n",
    "    self.recursive_min_max(self.root, board)\n",
    "\n",
    "  \n",
    "  def recursive_min_max(self, act_node, board, up_val):\n",
    "    assert act_node\n",
    "    assert act_node.possible_actions\n",
    "\n",
    "    actions = act_node.possible_actions\n",
    "\n",
    "    # Termination - leaf\n",
    "    if not actions:\n",
    "      logging.debug(f'Leaf')\n",
    "      if v := self.lookup_table[(act_node, Nimply(-1, -1))]:\n",
    "        pass\n",
    "      else: v = 1 # <----------------------------- VALORE FOGLIE ?????????????????\n",
    "      # MAX -> quante volte sono andato in una secure_position ?\n",
    "      # MIN -> quante volte sono andato in una unsicure_position ?\n",
    "      act_node.set_utility(v)\n",
    "      self.lookup_table[(act_node, Nimply(-1, -1))] = v\n",
    "      return v\n",
    "\n",
    "    if act_node.type == 'max':\n",
    "      best = -10e15\n",
    "    else: best = 10e15 # min\n",
    "    \n",
    "    for a in iter(actions):\n",
    "      act_node.add_node(board, a)\n",
    "      # <----------------- ????? a b prouning\n",
    "      \n",
    "      val = self.recursive_min_max(act_node, board, val)\n",
    "      if val > best:\n",
    "        best = val\n",
    "\n",
    "\n",
    "\n"
   ]
  }
 ],
 "metadata": {
  "kernelspec": {
   "display_name": "Python 3.10.8 64-bit (microsoft store)",
   "language": "python",
   "name": "python3"
  },
  "language_info": {
   "codemirror_mode": {
    "name": "ipython",
    "version": 3
   },
   "file_extension": ".py",
   "mimetype": "text/x-python",
   "name": "python",
   "nbconvert_exporter": "python",
   "pygments_lexer": "ipython3",
   "version": "3.10.8"
  },
  "orig_nbformat": 4,
  "vscode": {
   "interpreter": {
    "hash": "dfdee70b8fde6354ca2c3454fb2ed6ad5a414021dbe15bd7e75ed280b1128364"
   }
  }
 },
 "nbformat": 4,
 "nbformat_minor": 2
}
