{
 "cells": [
  {
   "cell_type": "markdown",
   "metadata": {},
   "source": [
    "# Lab 3 - Nim  \n",
    "## Task3.3: An agent using minmax   "
   ]
  },
  {
   "cell_type": "code",
   "execution_count": 1,
   "metadata": {},
   "outputs": [],
   "source": [
    "import logging\n",
    "import random\n",
    "from copy import deepcopy\n",
    "\n",
    "from nim import Nimply, Nim"
   ]
  },
  {
   "cell_type": "code",
   "execution_count": 2,
   "metadata": {},
   "outputs": [],
   "source": [
    "logging.basicConfig(format=\"%(message)s\", level=logging.INFO)"
   ]
  },
  {
   "cell_type": "markdown",
   "metadata": {},
   "source": [
    "## Implementaton"
   ]
  },
  {
   "cell_type": "code",
   "execution_count": 3,
   "metadata": {},
   "outputs": [],
   "source": [
    "def hash_id(state: list, player: int):\n",
    "  \"\"\"\n",
    "    Computes the hash of the tuple tuple(state) + (player, ), where:\n",
    "    - state is the list of rows, i.e. the board\n",
    "    - player is either 0 or 1\n",
    "  \"\"\"\n",
    "  assert player == 1 or player == 0\n",
    "  return hash(tuple(sorted(state)) + (player, ))\n"
   ]
  },
  {
   "cell_type": "markdown",
   "metadata": {},
   "source": [
    "Node class"
   ]
  },
  {
   "cell_type": "code",
   "execution_count": 4,
   "metadata": {},
   "outputs": [],
   "source": [
    "class Node():\n",
    "  \"\"\"\n",
    "    State of the grapth that contains:\n",
    "    - id: hash of tuple(state)+(player,)\n",
    "    - state: copy of the state (nim._rows)\n",
    "    - player: either 0 or 1\n",
    "    - utility: value initialized to 0, becomes either -inf or +inf\n",
    "    - children: list of nodes\n",
    "    - parents: list of nodes \n",
    "    - actions: list of possible actions as Nimply objects\n",
    "  \"\"\"\n",
    "\n",
    "  def __init__(self, state: list, player: int):\n",
    "    assert player == 1 or player == 0\n",
    "    \n",
    "    self.id = hash_id(state, player)\n",
    "    self.state = deepcopy(state)\n",
    "    self.player = player # Me (0) -> max ; Opponent (1) -> min\n",
    "    \n",
    "    self.utility = 0  # -inf if I lose, +inf if I win\n",
    "    self.children = []\n",
    "    self.parents = []\n",
    "    self.possible_acitions() # creates self.actions\n",
    "\n",
    "\n",
    "  def __eq__(self, other):\n",
    "    return isinstance(other, Node) and self.state == other.state and self.player == other.player\n",
    "\n",
    "\n",
    "  def link_parent(self, parent):\n",
    "    \"\"\"\n",
    "      Links the actual node with the parent node\n",
    "    \"\"\"\n",
    "    assert isinstance(parent, Node)\n",
    "    assert self.player != parent.player\n",
    "\n",
    "    if parent not in self.parents:\n",
    "      self.parents.append(parent)\n",
    "\n",
    "\n",
    "  def link_child(self, child):\n",
    "    \"\"\"\n",
    "      Links the child node to the actual node\n",
    "    \"\"\"\n",
    "    assert isinstance(child, Node)\n",
    "    assert self.player != child.player\n",
    "\n",
    "    if child not in self.children:\n",
    "      self.children.append(child)\n",
    "\n",
    "\n",
    "  def is_leaf(self):\n",
    "    return sum(self.state) == 0\n",
    "\n",
    "  \n",
    "  def leaf_utility(self):\n",
    "    \"\"\"\n",
    "      Returns the utility of a leaf:\n",
    "      - player 0 on leaf --> I lost, then utility = -inf\n",
    "      - player 1 on leaf --> I won, then utility = +inf \n",
    "    \"\"\"\n",
    "    if self.is_leaf():\n",
    "      if self.player == 0: \n",
    "        return float('-inf')     # I lost (the opponent took the last piece) \n",
    "      else: return float('+inf') # I won\n",
    "\n",
    "\n",
    "  def possible_acitions(self, k=None):\n",
    "    \"\"\"\n",
    "      Computes all the possible action reachable from the actual node\n",
    "      and saves them inside self.actions \n",
    "    \"\"\"\n",
    "    self.actions = []\n",
    "    \n",
    "    if self.is_leaf():\n",
    "      return\n",
    "\n",
    "    not_zero_rows = [(r, n) for r, n in enumerate(self.state) if n > 0]\n",
    "    for row, num_obj in not_zero_rows:  \n",
    "      while num_obj > 0:\n",
    "        if k and num_obj > k:\n",
    "          num_obj = k\n",
    "          continue\n",
    "        self.actions.append(Nimply(row, num_obj))\n",
    "        num_obj -= 1\n"
   ]
  },
  {
   "cell_type": "markdown",
   "metadata": {},
   "source": [
    "Game Tree class"
   ]
  },
  {
   "cell_type": "code",
   "execution_count": 5,
   "metadata": {},
   "outputs": [],
   "source": [
    "class GameTree():\n",
    "  \"\"\"\n",
    "    Game Tree comosed of nodes that could have multiple parents and multiple children.  \n",
    "    \n",
    "    The roots is one:\n",
    "    - Starting state + starting player = 0 \n",
    "    The leafs are two:\n",
    "    - State of all zeros + finish player = 0  (I lose)\n",
    "    - State of all zeros + finish player = 1  (I win)\n",
    "    \n",
    "    The class contains the following attributs:\n",
    "    - k: nim._k\n",
    "    - start_player: either 0 or 1\n",
    "    - dict_id_node: dictionary that maps the node id to the actual node\n",
    "    - dict_id_utility_action: dictionary that maps the node id to a tuple (utility, action), where:\n",
    "      - utility: utility of the node\n",
    "      - action: better action to take (Nimply object)\n",
    "    - root: root node (Node object)    \n",
    "  \"\"\"\n",
    "\n",
    "  def __init__(self, nim: Nim, start_player=0):\n",
    "    self.k = nim._k\n",
    "    self.start_player = start_player\n",
    "    self.dict_id_node = {}    \n",
    "    self.dict_id_utility_action = {} \n",
    "    \n",
    "    self.root = Node(nim._rows, start_player)\n",
    "    self.dict_id_node[self.root.id] = self.root\n",
    "\n",
    "\n",
    "  def min_max(self):\n",
    "    \"\"\"\n",
    "      MinMax using a recursive function that expands a node by trying every possible action of that node.  \n",
    "\n",
    "      The recursive function returns the utility of the children and the parent will select  \n",
    "       the best utility according to who is playing at that layer:\n",
    "      - if player 1 is playing, than minimize the reward (look for utility = -inf)\n",
    "      - if player 0 is playing, than maximize the reward (look for utility = +inf)\n",
    "\n",
    "      The alpha-beta pruning is implemented:  \n",
    "       if the player finds a child with the desired utility, it stops looking\n",
    "      becouse he will win choosing that action to go to that state.\n",
    "    \"\"\"\n",
    "\n",
    "    def recursive_min_max(node: Node):  \n",
    "      # Stop condition\n",
    "      if node.id in self.dict_id_utility_action:\n",
    "        logging.debug(f'State {node.state} ({node.player}) already computed: {self.dict_id_utility_action[node.id][0]}')\n",
    "        return self.dict_id_utility_action[node.id][0] # just the utility value\n",
    "      \n",
    "      if node.is_leaf():\n",
    "        node.utility = node.leaf_utility()\n",
    "        logging.debug(f'Leaf player {node.player}')\n",
    "        return node.utility\n",
    "\n",
    "\n",
    "      # Recursive part\n",
    "      for ply in node.actions:\n",
    "        row, num_obj = ply\n",
    "        \n",
    "        # Check rules\n",
    "        assert node.state[row] >= num_obj\n",
    "        assert self.k is None or num_obj <= self.k\n",
    "\n",
    "        # Create the child\n",
    "        child_state = deepcopy(node.state)\n",
    "        child_state[row] -= num_obj # nimming\n",
    "        child_id = hash_id(child_state, 1 - node.player)\n",
    "        if child_id in self.dict_id_node: # node already exists\n",
    "          child = self.dict_id_node[child_id]\n",
    "        else: # create the new node\n",
    "          child = Node(child_state, 1 - node.player)\n",
    "        \n",
    "        # Link parent and child\n",
    "        node.link_child(child)\n",
    "        child.link_parent(node)\n",
    "\n",
    "        # Recursion\n",
    "        best_utility = recursive_min_max(child)\n",
    "        \n",
    "        # Update the values\n",
    "        opp_wins = node.player == 1 and best_utility == float('-inf')  # opponent will win\n",
    "        i_win = node.player == 0 and best_utility == float('+inf')  # I will win\n",
    "        if i_win or opp_wins:\n",
    "          node.utility = best_utility\n",
    "          self.dict_id_utility_action[node.id] = (node.utility, ply)\n",
    "          return node.utility\n",
    "          \n",
    "      # This player will surelly lose otherwise he would have returned before\n",
    "      node.utility = best_utility\n",
    "      ply = random.choice(node.actions) # it doesn't matter the ply, he will lose\n",
    "      self.dict_id_utility_action[node.id] = (node.utility, ply)\n",
    "    \n",
    "      return node.utility\n",
    "    \n",
    "    \n",
    "    utility = recursive_min_max(self.root)\n",
    "    if self.start_player == 0 and utility == float('+inf'):\n",
    "      logging.info('The starting player will WIN')\n",
    "      logging.info(f'--> move {self.dict_id_utility_action[self.root.id][1]}')\n",
    "      return self.dict_id_utility_action[self.root.id]\n",
    "    else:\n",
    "      logging.info('The starting player will LOSE')\n",
    "      return self.dict_id_utility_action[self.root.id] \n",
    "    \n",
    "\n",
    "  def best_action(self, node: Node):\n",
    "    \"\"\"\n",
    "      Returns the best aciton at that state\n",
    "    \"\"\"\n",
    "    assert self.root.id in self.dict_id_utility_action\n",
    "    assert node.id in self.dict_id_utility_action\n",
    "\n",
    "    return self.dict_id_utility_action[node.id]\n",
    "\n"
   ]
  },
  {
   "cell_type": "markdown",
   "metadata": {},
   "source": [
    "## Play"
   ]
  },
  {
   "cell_type": "code",
   "execution_count": 7,
   "metadata": {},
   "outputs": [
    {
     "name": "stderr",
     "output_type": "stream",
     "text": [
      "The starting player will WIN\n",
      "--> move Nimply(row=4, num_objects=9)\n",
      "The starting player will LOSE\n"
     ]
    },
    {
     "data": {
      "text/plain": [
       "(-inf, Nimply(row=4, num_objects=9))"
      ]
     },
     "execution_count": 7,
     "metadata": {},
     "output_type": "execute_result"
    }
   ],
   "source": [
    "nim = Nim(5)\n",
    "game_tree0 = GameTree(nim, start_player=0) # I start\n",
    "game_tree1 = GameTree(nim, start_player=1) # Opponent starts\n",
    "\n",
    "game_tree0.min_max()\n",
    "game_tree1.min_max()\n"
   ]
  }
 ],
 "metadata": {
  "kernelspec": {
   "display_name": "Python 3.10.8 64-bit (microsoft store)",
   "language": "python",
   "name": "python3"
  },
  "language_info": {
   "codemirror_mode": {
    "name": "ipython",
    "version": 3
   },
   "file_extension": ".py",
   "mimetype": "text/x-python",
   "name": "python",
   "nbconvert_exporter": "python",
   "pygments_lexer": "ipython3",
   "version": "3.10.9 (tags/v3.10.9:1dd9be6, Dec  6 2022, 20:01:21) [MSC v.1934 64 bit (AMD64)]"
  },
  "orig_nbformat": 4,
  "vscode": {
   "interpreter": {
    "hash": "dfdee70b8fde6354ca2c3454fb2ed6ad5a414021dbe15bd7e75ed280b1128364"
   }
  }
 },
 "nbformat": 4,
 "nbformat_minor": 2
}
