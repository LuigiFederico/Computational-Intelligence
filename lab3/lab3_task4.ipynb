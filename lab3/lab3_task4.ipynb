{
 "cells": [
  {
   "attachments": {},
   "cell_type": "markdown",
   "metadata": {},
   "source": [
    "# Lab 3 - Nim  \n",
    "## Task3.4: An agent using reinforcement learning  "
   ]
  },
  {
   "cell_type": "code",
   "execution_count": 1,
   "metadata": {},
   "outputs": [],
   "source": [
    "import logging\n",
    "import random\n",
    "from copy import deepcopy\n",
    "import matplotlib.pyplot as plt\n",
    "\n",
    "from nim import Nimply, Nim\n",
    "from play_nim import opponents, evaluate"
   ]
  },
  {
   "cell_type": "code",
   "execution_count": 2,
   "metadata": {},
   "outputs": [],
   "source": [
    "logging.basicConfig(format=\"%(message)s\", level=logging.INFO)"
   ]
  },
  {
   "attachments": {},
   "cell_type": "markdown",
   "metadata": {},
   "source": [
    "## Implementation"
   ]
  },
  {
   "cell_type": "code",
   "execution_count": 3,
   "metadata": {},
   "outputs": [],
   "source": [
    "def hash_id(state: list, player: int):\n",
    "  \"\"\"\n",
    "    Computes the hash of the tuple tuple(state) + (player, ), where:\n",
    "    - state is the list of rows, i.e. the board\n",
    "    - player is either 0 or 1\n",
    "  \"\"\"\n",
    "  assert player == 1 or player == 0\n",
    "  return hash(tuple(state) + (player, ))"
   ]
  },
  {
   "attachments": {},
   "cell_type": "markdown",
   "metadata": {},
   "source": [
    "#### Node class from Task 3"
   ]
  },
  {
   "cell_type": "code",
   "execution_count": 4,
   "metadata": {},
   "outputs": [],
   "source": [
    "class Node():\n",
    "  \"\"\"\n",
    "    State of the grapth that contains:\n",
    "    - id: hash of tuple(state)+(player,)\n",
    "    - state: copy of the state (nim._rows)\n",
    "    - player: either 0 or 1\n",
    "    - reward: value initialized to 0, becomes either 100 (win) or -100 (lose)\n",
    "    - children: list of nodes\n",
    "    - parents: list of nodes \n",
    "    - actions: list of possible actions as Nimply objects\n",
    "  \"\"\"\n",
    "\n",
    "  def __init__(self, state: list, player: int):\n",
    "    assert player == 1 or player == 0\n",
    "    \n",
    "    self.id = hash_id(state, player)\n",
    "    self.state = deepcopy(state)\n",
    "    self.player = player # Me (0) -> max ; Opponent (1) -> min\n",
    "    \n",
    "    self.reward = 0 \n",
    "    self.children = []\n",
    "    self.parents = []\n",
    "    self.possible_acitions() # creates self.actions\n",
    "\n",
    "\n",
    "  def __eq__(self, other):\n",
    "    return isinstance(other, Node) and self.state == other.state and self.player == other.player\n",
    "\n",
    "\n",
    "  def link_parent(self, parent):\n",
    "    \"\"\"\n",
    "      Links the actual node with the parent node\n",
    "    \"\"\"\n",
    "    assert isinstance(parent, Node)\n",
    "    assert self.player != parent.player\n",
    "\n",
    "    if parent not in self.parents:\n",
    "      self.parents.append(parent)\n",
    "\n",
    "\n",
    "  def link_child(self, child):\n",
    "    \"\"\"\n",
    "      Links the child node to the actual node\n",
    "    \"\"\"\n",
    "    assert isinstance(child, Node)\n",
    "    assert self.player != child.player\n",
    "\n",
    "    if child not in self.children:\n",
    "      self.children.append(child)\n",
    "\n",
    "\n",
    "  def is_game_over(self):\n",
    "    return sum(self.state) == 0\n",
    "\n",
    "  \n",
    "  def give_reward(self):\n",
    "    \"\"\"\n",
    "    Returns the reward of the node\n",
    "    - not end -> reward = -1  \n",
    "    - win -> reward = 100  \n",
    "    - lose -> reward = -100  \n",
    "    \"\"\"\n",
    "    if not self.is_game_over():\n",
    "      return -1\n",
    "    if self.player == 0: # I lose\n",
    "      return -100\n",
    "    return 100 # I win\n",
    "\n",
    "\n",
    "  def possible_acitions(self, k=None):\n",
    "    \"\"\"\n",
    "      Computes all the possible action reachable from the actual node\n",
    "      and saves them inside self.actions \n",
    "    \"\"\"\n",
    "    self.actions = []\n",
    "    \n",
    "    if self.is_game_over():\n",
    "      return\n",
    "\n",
    "    not_zero_rows = [(r, n) for r, n in enumerate(self.state) if n > 0]\n",
    "    for row, num_obj in not_zero_rows:  \n",
    "      while num_obj > 0:\n",
    "        if k and num_obj > k:\n",
    "          num_obj = k\n",
    "          continue\n",
    "        self.actions.append(Nimply(row, num_obj))\n",
    "        num_obj -= 1\n"
   ]
  },
  {
   "attachments": {},
   "cell_type": "markdown",
   "metadata": {},
   "source": [
    "#### Game Tree (builded recursively, such us in task 3)"
   ]
  },
  {
   "cell_type": "code",
   "execution_count": 5,
   "metadata": {},
   "outputs": [],
   "source": [
    "class GameTree():\n",
    "  \"\"\"\n",
    "    Game Tree comosed of nodes that could have multiple parents and multiple children.\n",
    "    Differently from task 3, this class expands the tree considering both player 1 and player 0 starting.\n",
    "    \n",
    "    The roots are two:\n",
    "    - Starting state + starting player = 0 \n",
    "    - Starting state + starting player = 1 \n",
    "    The leafs are two:\n",
    "    - State of all zeros + finish player = 0  (Agent loses)\n",
    "    - State of all zeros + finish player = 1  (Agent wins)\n",
    "    \n",
    "    The class contains the following attributs:\n",
    "    - k: nim._k\n",
    "    - dict_id_node: dictionary that maps the node id to the actual node\n",
    "    - dict_id_reward: dictionary that maps the node id to the state reward\n",
    "    - root0: root node (Node object) when player 0 starts\n",
    "    - root1: root node (Node object) when player 1 starts  \n",
    "\n",
    "  \"\"\"\n",
    "\n",
    "  def __init__(self, nim: Nim):\n",
    "    self.k = nim._k\n",
    "    self.dict_id_node = {}   \n",
    "    self.dict_id_reward = {} \n",
    "\n",
    "    # Build tree\n",
    "    self.root0 = Node(nim._rows, player=0)\n",
    "    self.root1 = Node(nim._rows, player=1)\n",
    "    self.dict_id_node[self.root0.id] = self.root0\n",
    "    self.dict_id_node[self.root1.id] = self.root1\n",
    "\n",
    "    logging.info(f'Building the tree...')\n",
    "    self.build_tree(self.root0)\n",
    "    self.build_tree(self.root1)\n",
    "    logging.info('Done')\n",
    "\n",
    "  \n",
    "  def build_tree(self, root):\n",
    "    \"\"\"\n",
    "      Builds the tree using a recursive function that expands a node by trying every possible action of that node.\n",
    "\n",
    "      The nodes are likend to each other, starting by the given root node.\n",
    "    \"\"\"\n",
    "    \n",
    "    def recursive(node: Node):\n",
    "      # Stop condition\n",
    "      if node.id in self.dict_id_reward:\n",
    "        return\n",
    "      \n",
    "      if node.is_game_over():\n",
    "        node.reward = node.give_reward()\n",
    "        self.dict_id_reward[node.id] = node.reward\n",
    "        return\n",
    "\n",
    "\n",
    "      # Recursive part\n",
    "      for ply in node.actions:\n",
    "        row, num_obj = ply\n",
    "        \n",
    "        # Check rules\n",
    "        assert node.state[row] >= num_obj\n",
    "        assert self.k is None or num_obj <= self.k\n",
    "\n",
    "        # Create the child\n",
    "        child_state = deepcopy(node.state)\n",
    "        child_state[row] -= num_obj # nimming\n",
    "        child_id = hash_id(child_state, 1 - node.player)\n",
    "        if child_id in self.dict_id_node: # node already exists\n",
    "          child = self.dict_id_node[child_id]\n",
    "        else: # create the new node\n",
    "          child = Node(child_state, 1 - node.player)\n",
    "          self.dict_id_node[child_id] = child\n",
    "        \n",
    "        # Link parent and child\n",
    "        node.link_child(child)\n",
    "        child.link_parent(node)\n",
    "\n",
    "        # Recursion\n",
    "        recursive(child)\n",
    "          \n",
    "      # Reward of the node (-1)\n",
    "      node.reward = node.give_reward()\n",
    "      self.dict_id_reward[node.id] = node.reward\n",
    "    \n",
    "      return \n",
    "\n",
    "    recursive(root)\n",
    "    root.reward = root.give_reward()\n",
    "  \n",
    "\n",
    "\n"
   ]
  },
  {
   "attachments": {},
   "cell_type": "markdown",
   "metadata": {},
   "source": [
    "#### Agent"
   ]
  },
  {
   "cell_type": "code",
   "execution_count": 6,
   "metadata": {},
   "outputs": [],
   "source": [
    "class Agent():\n",
    "  \"\"\"\n",
    "    The agent that will use Reinforcement Learning to learn to play nim.  \n",
    "    This class in based on the maze example given by the professor.\n",
    "\n",
    "    Attributes:\n",
    "    alpha: learning rate\n",
    "    random_factor: probability of making a random action\n",
    "    state_history: history of the match played before learning\n",
    "    G: dictionary that maps the id node to the expected reward (initialized randomly)\n",
    "  \"\"\"\n",
    "  \n",
    "  def __init__(self, game_tree: GameTree, alpha=0.5, random_factor=0.2):\n",
    "    self.alpha = alpha\n",
    "    self.random_factor = random_factor\n",
    "    \n",
    "    self.state_history = [] # node -> inside has state and reward\n",
    "    self.G = {} # (k, v) = id_node, expected reward\n",
    "    for id, node in game_tree.dict_id_node.items():\n",
    "        self.G[id] = random.uniform(1.0, 0.1)\n",
    "\n",
    "\n",
    "  def choose_action(self, node: Node):\n",
    "    \"\"\"\n",
    "      Returns a Nimply by choosing the move that gives the maximum reward.\n",
    "      With self.random_factor probability returns a random move. \n",
    "    \"\"\"\n",
    "    maxG = -10e15\n",
    "    next_move = None\n",
    "    \n",
    "    # Random action\n",
    "    if random.random() < self.random_factor:\n",
    "      next_move = random.choice(node.actions)\n",
    "    # Action with highest G (reward)\n",
    "    else: \n",
    "      for a in node.actions:  # a is a Nimply obj\n",
    "        new_state = deepcopy(node.state)\n",
    "        new_state[a.row] -= a.num_objects\n",
    "        new_state_id = hash_id(new_state, player=1) # opponent's state\n",
    "        if self.G[new_state_id] >= maxG:\n",
    "          next_move = a\n",
    "          maxG = self.G[new_state_id]\n",
    "\n",
    "    return next_move      \n",
    "        \n",
    "\n",
    "  def update_history(self, node: Node):\n",
    "    self.state_history.append(node)\n",
    "\n",
    "\n",
    "  def learn(self):\n",
    "    \"\"\"\n",
    "      Update the internal G function by looking at the past\n",
    "       using the formula G[s] = G[s] + a * (v - G[s]), where:\n",
    "       - G[s] is the expected reward for the state s\n",
    "       - a is alpha, the learning rate\n",
    "       - v is the actual value associated to that state\n",
    "\n",
    "      After the learning part, it reset the history and decreases the random factor by 10e-5\n",
    "    \"\"\"\n",
    "    target = 0\n",
    "\n",
    "    for node in reversed(self.state_history):\n",
    "      self.G[node.id] = self.G[node.id] + self.alpha * (target - self.G[node.id])\n",
    "      target += node.reward\n",
    "\n",
    "    self.state_history = []     # Restart\n",
    "    self.random_factor -= 10e-5 # Decrease random factor each episode of play\n",
    "\n",
    "    "
   ]
  },
  {
   "attachments": {},
   "cell_type": "markdown",
   "metadata": {},
   "source": [
    "#### Evaluatation function"
   ]
  },
  {
   "cell_type": "code",
   "execution_count": 7,
   "metadata": {},
   "outputs": [],
   "source": [
    "def play(nim: Nim, game_tree: GameTree, agent: Agent, n_matches=40, *, opponent_action: callable, alternate_turns=True):\n",
    "  \"\"\"\n",
    "    This function simulated n_matches games between the agent and the given opponent.\n",
    "\n",
    "    If alternate_turns == True, than the games will have as strating player the player 0 \n",
    "     50 % of the time and player 1 50% of the time.\n",
    "    \n",
    "    If alternate_turns == False, the player 0 will always start the match.\n",
    "  \"\"\"\n",
    "\n",
    "  # Agent is player 0\n",
    "  won = 0\n",
    "  for m in range(n_matches):\n",
    "    # Setup the match\n",
    "    nim_tmp = deepcopy(nim)\n",
    "\n",
    "    if alternate_turns:\n",
    "      if m/n_matches > 0.5:\n",
    "        player = 1 # The agent starts\n",
    "      else:\n",
    "        player = 0 # Opponent starts  \n",
    "    else:\n",
    "      player = 0 # The agent always starts\n",
    "      \n",
    "    # Play the match\n",
    "    while not nim_tmp.is_game_over():\n",
    "      player = 1 - player\n",
    "      if player == 1:\n",
    "        ply = opponent_action(nim_tmp)\n",
    "      else: # player 0\n",
    "        state_id = hash_id(nim_tmp._rows, player)\n",
    "        node = game_tree.dict_id_node[state_id]\n",
    "        ply = agent.choose_action(node)\n",
    "      nim_tmp.nimming(ply)\n",
    "\n",
    "    if player == 0:\n",
    "      won += 1\n",
    "  \n",
    "  return won/n_matches\n"
   ]
  },
  {
   "attachments": {},
   "cell_type": "markdown",
   "metadata": {},
   "source": [
    "#### Reinforcement Learning algorithm"
   ]
  },
  {
   "cell_type": "code",
   "execution_count": 8,
   "metadata": {},
   "outputs": [],
   "source": [
    "def RL_nim(nim: Nim, game_tree: GameTree, agent: Agent, opponent: callable, episodes = 5000, alternate_turns=True):\n",
    "  \"\"\"\n",
    "    A match is played by the agent aganst the given opponent episodes times.\n",
    "\n",
    "    At each episode, the agent learns looking at the rewards that it receved.\n",
    "\n",
    "    Every 50 epochs, the agent plays versus the opponent using the function play(•) above, \n",
    "    in order to look how many matches it wins.\n",
    "\n",
    "    The win rates are sotred inside a log list that is returned\n",
    "  \n",
    "  \"\"\"\n",
    "  log_winrate = [] # episode, value \n",
    "\n",
    "  for e in range(episodes):\n",
    "    # Play a game\n",
    "    episode_nim = deepcopy(nim)\n",
    "\n",
    "    if alternate_turns:\n",
    "      if e % 2 == 0:\n",
    "        state = game_tree.root0 # the agent starts\n",
    "      else:\n",
    "        state = game_tree.root1 # the opponent starts\n",
    "    else:\n",
    "      state = game_tree.root0 # The agent always starts\n",
    "\n",
    "    while not episode_nim.is_game_over():\n",
    "      # My turn\n",
    "      if state.player == 0:\n",
    "        my_action = agent.choose_action(state) # Choose an action\n",
    "        episode_nim.nimming(my_action)         # Update the state\n",
    "        if episode_nim.is_game_over():\n",
    "          break\n",
    "\n",
    "        # Get new state and reward\n",
    "        new_state_id = hash_id(episode_nim._rows, player = 1)\n",
    "        state = game_tree.dict_id_node[new_state_id]\n",
    "        agent.update_history(state)\n",
    "      \n",
    "      # Opponent turn\n",
    "      else:\n",
    "        opp_action = opponent(episode_nim)\n",
    "        episode_nim.nimming(opp_action)\n",
    "        if episode_nim.is_game_over():\n",
    "          break\n",
    "        new_state_id = hash_id(episode_nim._rows, player = 0)\n",
    "        state = game_tree.dict_id_node[new_state_id]\n",
    "      \n",
    "    # Log\n",
    "    if e % 50 == 0:\n",
    "      winrate = play(nim, game_tree, agent, opponent_action=opponent, alternate_turns=alternate_turns)\n",
    "      logging.debug(f'{e}: winrate = {winrate}')\n",
    "      log_winrate.append((e, winrate))\n",
    "    \n",
    "  return log_winrate\n"
   ]
  },
  {
   "attachments": {},
   "cell_type": "markdown",
   "metadata": {},
   "source": [
    "#### Plot funcion"
   ]
  },
  {
   "cell_type": "code",
   "execution_count": 9,
   "metadata": {},
   "outputs": [],
   "source": [
    "def plot_agent_winrates(log_winrate):\n",
    "  x = [e for e, w in log_winrate]\n",
    "  y = [w for e, w in log_winrate]\n",
    "  plt.xlabel('Episodes')\n",
    "  plt.ylabel('Win rate')\n",
    "  plt.plot(x, y)\n",
    "  plt.show()\n",
    "  "
   ]
  },
  {
   "attachments": {},
   "cell_type": "markdown",
   "metadata": {},
   "source": [
    "---\n",
    "---"
   ]
  },
  {
   "attachments": {},
   "cell_type": "markdown",
   "metadata": {},
   "source": [
    "## Play"
   ]
  },
  {
   "cell_type": "code",
   "execution_count": 10,
   "metadata": {},
   "outputs": [
    {
     "name": "stderr",
     "output_type": "stream",
     "text": [
      "Building the tree...\n",
      "Done\n"
     ]
    }
   ],
   "source": [
    "nim = Nim(5)\n",
    "game_tree= GameTree(nim)\n",
    "agent = Agent(game_tree)"
   ]
  },
  {
   "attachments": {},
   "cell_type": "markdown",
   "metadata": {},
   "source": [
    "#### Agent vs Dumb player"
   ]
  },
  {
   "cell_type": "code",
   "execution_count": 11,
   "metadata": {},
   "outputs": [
    {
     "name": "stderr",
     "output_type": "stream",
     "text": [
      "Agent winrate from (0, 0.825) to (49980, 0.875) \n"
     ]
    },
    {
     "data": {
      "image/png": "[encoded data removed]",
      "text/plain": [
       "<Figure size 432x288 with 1 Axes>"
      ]
     },
     "metadata": {
      "needs_background": "light"
     },
     "output_type": "display_data"
    }
   ],
   "source": [
    "opponent = opponents[1]\n",
    "log_lv1 = RL_nim(nim, game_tree, agent, opponent=opponent, episodes=50000, alternate_turns=False)\n",
    "logging.info(f'Agent winrate from {log_lv1[0]} to {log_lv1[len(log_lv1)-1]} ')\n",
    "plot_agent_winrates(log_lv1)"
   ]
  },
  {
   "attachments": {},
   "cell_type": "markdown",
   "metadata": {},
   "source": [
    "#### Agent vs Dumb random player"
   ]
  },
  {
   "cell_type": "code",
   "execution_count": 12,
   "metadata": {},
   "outputs": [
    {
     "name": "stderr",
     "output_type": "stream",
     "text": [
      "Agent winrate from (0, 0.55) to (49980, 0.7) \n"
     ]
    },
    {
     "data": {
      "image/png": "[encoded data removed]",
      "text/plain": [
       "<Figure size 432x288 with 1 Axes>"
      ]
     },
     "metadata": {
      "needs_background": "light"
     },
     "output_type": "display_data"
    }
   ],
   "source": [
    "opponent = opponents[2]\n",
    "log_lv1 = RL_nim(nim, game_tree, agent, opponent=opponent, episodes=50000, alternate_turns=False)\n",
    "logging.info(f'Agent winrate from {log_lv1[0]} to {log_lv1[len(log_lv1)-1]} ')\n",
    "plot_agent_winrates(log_lv1)"
   ]
  },
  {
   "attachments": {},
   "cell_type": "markdown",
   "metadata": {},
   "source": [
    "#### Agent vs Random player"
   ]
  },
  {
   "cell_type": "code",
   "execution_count": 13,
   "metadata": {},
   "outputs": [
    {
     "name": "stderr",
     "output_type": "stream",
     "text": [
      "Agent winrate from (0, 0.575) to (49980, 0.575) \n"
     ]
    },
    {
     "data": {
      "image/png": "[encoded data removed]",
      "text/plain": [
       "<Figure size 432x288 with 1 Axes>"
      ]
     },
     "metadata": {
      "needs_background": "light"
     },
     "output_type": "display_data"
    }
   ],
   "source": [
    "opponent = opponents[3]\n",
    "log_lv1 = RL_nim(nim, game_tree, agent, opponent=opponent, episodes=50000, alternate_turns=False)\n",
    "logging.info(f'Agent winrate from {log_lv1[0]} to {log_lv1[len(log_lv1)-1]} ')\n",
    "plot_agent_winrates(log_lv1)"
   ]
  },
  {
   "attachments": {},
   "cell_type": "markdown",
   "metadata": {},
   "source": [
    "#### Agent vs Layered player"
   ]
  },
  {
   "cell_type": "code",
   "execution_count": 14,
   "metadata": {},
   "outputs": [
    {
     "name": "stderr",
     "output_type": "stream",
     "text": [
      "Agent winrate from (0, 0.525) to (49980, 0.5) \n"
     ]
    },
    {
     "data": {
      "image/png": "[encoded data removed]",
      "text/plain": [
       "<Figure size 432x288 with 1 Axes>"
      ]
     },
     "metadata": {
      "needs_background": "light"
     },
     "output_type": "display_data"
    }
   ],
   "source": [
    "opponent = opponents[4]\n",
    "log_lv1 = RL_nim(nim, game_tree, agent, opponent=opponent, episodes=50000, alternate_turns=False)\n",
    "logging.info(f'Agent winrate from {log_lv1[0]} to {log_lv1[len(log_lv1)-1]} ')\n",
    "plot_agent_winrates(log_lv1)"
   ]
  },
  {
   "attachments": {},
   "cell_type": "markdown",
   "metadata": {},
   "source": [
    "#### Agent vs Demigod player (50% random - 50% num-sum)"
   ]
  },
  {
   "cell_type": "code",
   "execution_count": 15,
   "metadata": {},
   "outputs": [
    {
     "name": "stderr",
     "output_type": "stream",
     "text": [
      "Agent winrate from (0, 0.4) to (49980, 0.475) \n"
     ]
    },
    {
     "data": {
      "image/png": "[encoded data removed]",
      "text/plain": [
       "<Figure size 432x288 with 1 Axes>"
      ]
     },
     "metadata": {
      "needs_background": "light"
     },
     "output_type": "display_data"
    }
   ],
   "source": [
    "opponent = opponents[5]\n",
    "log_lv1 = RL_nim(nim, game_tree, agent, opponent=opponent, episodes=50000, alternate_turns=False)\n",
    "logging.info(f'Agent winrate from {log_lv1[0]} to {log_lv1[len(log_lv1)-1]} ')\n",
    "plot_agent_winrates(log_lv1)"
   ]
  },
  {
   "attachments": {},
   "cell_type": "markdown",
   "metadata": {},
   "source": [
    "#### Agent vs God player (nim-sum)"
   ]
  },
  {
   "cell_type": "code",
   "execution_count": 16,
   "metadata": {},
   "outputs": [
    {
     "name": "stderr",
     "output_type": "stream",
     "text": [
      "Agent winrate from (0, 0.0) to (49980, 0.0) \n"
     ]
    },
    {
     "data": {
      "image/png": "[encoded data removed]",
      "text/plain": [
       "<Figure size 432x288 with 1 Axes>"
      ]
     },
     "metadata": {
      "needs_background": "light"
     },
     "output_type": "display_data"
    }
   ],
   "source": [
    "opponent = opponents[6]\n",
    "log_lv1 = RL_nim(nim, game_tree, agent, opponent=opponent, episodes=50000, alternate_turns=False)\n",
    "logging.info(f'Agent winrate from {log_lv1[0]} to {log_lv1[len(log_lv1)-1]} ')\n",
    "plot_agent_winrates(log_lv1)"
   ]
  }
 ],
 "metadata": {
  "kernelspec": {
   "display_name": "Python 3",
   "language": "python",
   "name": "python3"
  },
  "language_info": {
   "codemirror_mode": {
    "name": "ipython",
    "version": 3
   },
   "file_extension": ".py",
   "mimetype": "text/x-python",
   "name": "python",
   "nbconvert_exporter": "python",
   "pygments_lexer": "ipython3",
   "version": "3.10.9 (tags/v3.10.9:1dd9be6, Dec  6 2022, 20:01:21) [MSC v.1934 64 bit (AMD64)]"
  },
  "orig_nbformat": 4,
  "vscode": {
   "interpreter": {
    "hash": "dfdee70b8fde6354ca2c3454fb2ed6ad5a414021dbe15bd7e75ed280b1128364"
   }
  }
 },
 "nbformat": 4,
 "nbformat_minor": 2
}
